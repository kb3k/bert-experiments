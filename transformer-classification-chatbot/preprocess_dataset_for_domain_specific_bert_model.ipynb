{
 "cells": [
  {
   "cell_type": "code",
   "execution_count": 1,
   "id": "c26d1487",
   "metadata": {},
   "outputs": [],
   "source": [
    "DEV = True"
   ]
  },
  {
   "cell_type": "code",
   "execution_count": 3,
   "id": "8ba2b26b",
   "metadata": {},
   "outputs": [],
   "source": [
    "import autocorrect\n",
    "from autocorrect import Speller\n",
    "from autocorrect import spell\n",
    "from nltk.tokenize import word_tokenize\n",
    "import textract\n",
    "import PyPDF2\n",
    "\n",
    "import nltk\n",
    "import re\n",
    "import string\n",
    "from nltk.corpus import stopwords, brown\n",
    "from nltk.tokenize import word_tokenize, sent_tokenize, RegexpTokenizer\n",
    "from nltk.stem import WordNetLemmatizer\n",
    "\n",
    "import pandas as pd\n",
    "\n",
    "from sklearn.feature_extraction.text import CountVectorizer\n",
    "import numpy as np\n",
    "\n",
    "import matplotlib.pyplot as plt\n",
    "import seaborn as sn\n",
    "\n",
    "from collections import Counter\n",
    "\n",
    "#from wordcloud import WordCloud, STOPWORDS\n",
    "import imageio\n",
    "import matplotlib.pyplot as plt\n",
    "import nltk"
   ]
  },
  {
   "cell_type": "code",
   "execution_count": null,
   "id": "3ba86e86",
   "metadata": {},
   "outputs": [],
   "source": []
  },
  {
   "cell_type": "code",
   "execution_count": 6,
   "id": "6b2bf4ac",
   "metadata": {},
   "outputs": [],
   "source": [
    "def process_pdf_to_sentences(filename, count, DEV):\n",
    "    \"\"\"\n",
    "    \"\"\"\n",
    "    PATH = '/Users/kerry/Projects/k-wine-a-bot-it/data/'\n",
    "    FIG_PATH = '/Users/kerry/Projects/k-wine-a-bot-it/figures/'\n",
    "    open_filename = open(PATH+filename, 'rb')\n",
    "    wine_bible = PyPDF2.PdfReader(open_filename)\n",
    "\n",
    "    if DEV:\n",
    "        print(wine_bible.metadata)\n",
    "\n",
    "    if DEV:\n",
    "        total_pages = 25\n",
    "    else:\n",
    "        total_pages = len(wine_bible.pages)\n",
    "\n",
    "    if DEV:\n",
    "        print(total_pages)\n",
    "\n",
    "    text  = ''\n",
    "\n",
    "    # Lets loop through, to read each page from the pdf file\n",
    "    while(count < total_pages):\n",
    "        # Get the specified number of pages in the document\n",
    "        mani_page  = wine_bible.pages[count]\n",
    "        # Process the next page\n",
    "        count += 1\n",
    "        # Extract the text from the page\n",
    "        text += mani_page.extract_text()\n",
    "\n",
    "    if DEV:\n",
    "        print(text[0:30])\n",
    "\n",
    "    text = text.replace(\"\\n\", \" \")\n",
    "    text = text.replace(\"\\t\", \" \")\n",
    "    \n",
    "    sentences = text.replace(\".\", \"\\n\")\n",
    "    \n",
    "    return sentences\n"
   ]
  },
  {
   "cell_type": "code",
   "execution_count": 7,
   "id": "915d1260",
   "metadata": {},
   "outputs": [],
   "source": [
    "count = 14 # Wine Bible starts at page 15\n",
    "filename = 'the-wine-bible-karen-macneil.pdf'\n",
    "wine_bible_sentences = process_pdf_to_sentences(filename, count, DEV)\n",
    "with open('wine_bible_sentences.txt', 'w') as wine_bible_file:\n",
    "    wine_bible_file.write(wine_bible_sentences)"
   ]
  },
  {
   "cell_type": "code",
   "execution_count": null,
   "id": "0e0fca8b",
   "metadata": {},
   "outputs": [],
   "source": [
    "count = 19 # Wine for Dummies starts at page 20\n",
    "filename = 'Wine_For_Dummies_4th_Ed.pdf'\n",
    "wine_dummies_sentences = process_pdf_to_sentences(filename, count, DEV)\n",
    "with open('wine_dummies_sentences.txt', 'w') as wine_dummies_file:\n",
    "    wine_dummies_file.write(wine_dummies_sentences)"
   ]
  },
  {
   "cell_type": "code",
   "execution_count": null,
   "id": "5dd5c257",
   "metadata": {},
   "outputs": [],
   "source": [
    "count = 4\n",
    "filename = 'The World Atlas of Wine ( PDFDrive ).pdf'\n",
    "world_atlas_wine_sentences = process_pdf_to_sentences(filename, count, DEV)\n",
    "with open('world_atlas_wine_sentences.txt', 'w') as world_atlas_wine_file:\n",
    "    world_atlas_wine_file.write(world_atlas_wine_sentences)"
   ]
  },
  {
   "cell_type": "code",
   "execution_count": null,
   "id": "9d1d7704",
   "metadata": {},
   "outputs": [],
   "source": []
  }
 ],
 "metadata": {
  "kernelspec": {
   "display_name": "Python 3 (ipykernel)",
   "language": "python",
   "name": "python3"
  },
  "language_info": {
   "codemirror_mode": {
    "name": "ipython",
    "version": 3
   },
   "file_extension": ".py",
   "mimetype": "text/x-python",
   "name": "python",
   "nbconvert_exporter": "python",
   "pygments_lexer": "ipython3",
   "version": "3.10.0"
  }
 },
 "nbformat": 4,
 "nbformat_minor": 5
}
