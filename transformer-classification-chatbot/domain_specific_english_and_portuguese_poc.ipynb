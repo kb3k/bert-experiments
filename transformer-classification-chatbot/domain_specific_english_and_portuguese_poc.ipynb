{
 "cells": [
  {
   "cell_type": "code",
   "execution_count": 1,
   "metadata": {},
   "outputs": [
    {
     "name": "stderr",
     "output_type": "stream",
     "text": [
      "/Library/Frameworks/Python.framework/Versions/3.10/lib/python3.10/site-packages/tqdm/auto.py:21: TqdmWarning: IProgress not found. Please update jupyter and ipywidgets. See https://ipywidgets.readthedocs.io/en/stable/user_install.html\n",
      "  from .autonotebook import tqdm as notebook_tqdm\n",
      "[nltk_data] Error loading stopwords: <urlopen error [SSL:\n",
      "[nltk_data]     CERTIFICATE_VERIFY_FAILED] certificate verify failed:\n",
      "[nltk_data]     unable to get local issuer certificate (_ssl.c:997)>\n"
     ]
    }
   ],
   "source": [
    "from transformers import BertTokenizer, TFBertModel\n",
    "from transformers import DataCollatorForLanguageModeling\n",
    "from transformers import Trainer, TrainingArguments\n",
    "\n",
    "import torch\n",
    "from transformers.file_utils import is_tf_available, is_torch_available, is_torch_tpu_available\n",
    "from transformers import BertTokenizerFast, BertForSequenceClassification\n",
    "from transformers import Trainer, TrainingArguments\n",
    "import numpy as np\n",
    "import random\n",
    "from sklearn.datasets import fetch_20newsgroups\n",
    "from sklearn.model_selection import train_test_split\n",
    "import pandas as pd\n",
    "\n",
    "import unicodedata\n",
    "import string\n",
    "\n",
    "import nltk\n",
    "nltk.download('stopwords')\n",
    "from nltk.corpus import stopwords\n",
    "stop_words = set(stopwords.words('english'))\n",
    "\n",
    "import re\n",
    "\n",
    "from sklearn import preprocessing"
   ]
  },
  {
   "cell_type": "code",
   "execution_count": 2,
   "metadata": {},
   "outputs": [],
   "source": [
    "def set_seed(seed: int):\n",
    "    \"\"\"\n",
    "    Helper function for reproducible behavior to set the seed in ``random``, ``numpy``, ``torch`` and/or ``tf`` (if\n",
    "    installed).\n",
    "\n",
    "    Args:\n",
    "        seed (:obj:`int`): The seed to set.\n",
    "    \"\"\"\n",
    "    random.seed(seed)\n",
    "    np.random.seed(seed)\n",
    "    if is_torch_available():\n",
    "        torch.manual_seed(seed)\n",
    "        torch.cuda.manual_seed_all(seed)\n",
    "        # ^^ safe to call this function even if cuda is not available\n",
    "    if is_tf_available():\n",
    "        import tensorflow as tf\n",
    "\n",
    "        tf.random.set_seed(seed)\n",
    "\n",
    "set_seed(1)"
   ]
  },
  {
   "cell_type": "code",
   "execution_count": 3,
   "metadata": {},
   "outputs": [],
   "source": [
    "#tokenizer = BertTokenizer.from_pretrained('bert-base-cased')\n",
    "#model = TFBertModel.from_pretrained(\"bert-base-cased\")\n",
    "#text = \"Replace me by any text you'd like.\"\n",
    "#encoded_input = tokenizer(text, return_tensors='tf')\n",
    "#output = model(encoded_input)\n",
    "\n",
    "model_name=\"bert-base-uncased\"\n",
    "\n",
    "tokenizer = BertTokenizerFast.from_pretrained(model_name, do_lower_case=True)\n",
    "\n",
    "max_length = 512"
   ]
  },
  {
   "cell_type": "code",
   "execution_count": 4,
   "metadata": {
    "id": "jTtMMPYesPMN"
   },
   "outputs": [],
   "source": [
    "#uploaded = files.upload()\n",
    "#data_df = pd.read_csv(io.BytesIO(uploaded['msds543_chatbotdata.csv']))\n",
    "#varieties_df = pd.read_csv(io.BytesIO(uploaded['wine_list.csv']))\n",
    "#blogOsVinhos = pd.read_excel(\"BlogOsVinhos.xlsx\")\n",
    "\n",
    "FILE_PATH = \"../../master-thesis/data/\"\n",
    "\n",
    "data_df = pd.read_csv(f\"{FILE_PATH}/msds543_chatbotdata.csv\")\n",
    "varieties_df = pd.read_csv(f\"{FILE_PATH}/wine_list.csv\")\n",
    "blogOsVinhos = pd.read_excel(f\"{FILE_PATH}/BlogOsVinhos.xlsx\")\n",
    "blogOsVinhos.rename(columns={\"Name\": \"name\", \"Region\": \"region\", \"Producer\": \"brand\"\n",
    "                            }, inplace=True)"
   ]
  },
  {
   "cell_type": "code",
   "execution_count": 5,
   "metadata": {
    "id": "1LPKLi-IaSgo"
   },
   "outputs": [],
   "source": [
    "def strip_accents(STR):\n",
    "    return ''.join(c for c in unicodedata.normalize('NFD', STR)\n",
    "                   if unicodedata.category(c) != 'Mn')\n",
    "\n",
    "def clean_doc(doc): \n",
    "    \"\"\"\n",
    "    Given a string doc,\n",
    "    this function cleans the doc\n",
    "    of . . .\n",
    "    non-ascii chars\n",
    "    punctuation\n",
    "    anything other than lower case words\n",
    "    non-alphabetic tokens\n",
    "    stop words\n",
    "    tokens shorter than length 3\n",
    "    stem, lemma are also options\n",
    "    returns the list of tokens.\n",
    "    \"\"\"\n",
    "    doc = re.sub(r'[^\\x00-\\x7F]', '', str(doc)) # removes any remaining non-ascii chars\n",
    "    \n",
    "    tokens = doc.split(\" \") # set the tone\n",
    "    \n",
    "    # punctuation situation\n",
    "    sub_punc = re.compile('[%s]' % re.escape(string.punctuation))\n",
    "    tokens = [str(sub_punc.sub('', w)) for w in tokens]\n",
    "    \n",
    "    # alpha\n",
    "    tokens = [word for word in tokens if word.isalpha()]\n",
    "    \n",
    "    # shorties\n",
    "    tokens = [word for word in tokens if len(word) > 3]\n",
    "    \n",
    "    # capitalization\n",
    "    tokens = [word.lower() for word in tokens]\n",
    "    \n",
    "    # stop words\n",
    "    stop_words = set(stopwords.words('english'))\n",
    "    tokens = [w for w in tokens if not w in stop_words]\n",
    "    \n",
    "    # word stemming    \n",
    "    # ps=PorterStemmer()\n",
    "    # tokens=[ps.stem(word) for word in tokens]\n",
    "    \n",
    "    # lemma\n",
    "    return tokens # tokens is a list"
   ]
  },
  {
   "cell_type": "code",
   "execution_count": 6,
   "metadata": {
    "colab": {
     "base_uri": "https://localhost:8080/",
     "height": 372
    },
    "id": "wkGB38AsRJPm",
    "outputId": "9493baf1-e1ea-4118-831a-dfeb925bb2ed"
   },
   "outputs": [
    {
     "data": {
      "text/html": [
       "<div>\n",
       "<style scoped>\n",
       "    .dataframe tbody tr th:only-of-type {\n",
       "        vertical-align: middle;\n",
       "    }\n",
       "\n",
       "    .dataframe tbody tr th {\n",
       "        vertical-align: top;\n",
       "    }\n",
       "\n",
       "    .dataframe thead th {\n",
       "        text-align: right;\n",
       "    }\n",
       "</style>\n",
       "<table border=\"1\" class=\"dataframe\">\n",
       "  <thead>\n",
       "    <tr style=\"text-align: right;\">\n",
       "      <th></th>\n",
       "      <th>name</th>\n",
       "      <th>region</th>\n",
       "      <th>Year</th>\n",
       "      <th>Color</th>\n",
       "      <th>Castes</th>\n",
       "      <th>AlcoholPercentage</th>\n",
       "      <th>brand</th>\n",
       "      <th>MinimunPrice</th>\n",
       "      <th>MaximumPrice</th>\n",
       "      <th>Judge</th>\n",
       "      <th>JudgeRating</th>\n",
       "      <th>Date</th>\n",
       "      <th>JudgeNotes</th>\n",
       "      <th>Label</th>\n",
       "      <th>Link</th>\n",
       "    </tr>\n",
       "  </thead>\n",
       "  <tbody>\n",
       "    <tr>\n",
       "      <th>0</th>\n",
       "      <td>.Beb 2007</td>\n",
       "      <td>Regional Alentejo</td>\n",
       "      <td>2007</td>\n",
       "      <td>Rosé</td>\n",
       "      <td>Cabernet Sauvignon, Syrah e Touriga Nacional</td>\n",
       "      <td>13.5</td>\n",
       "      <td>Tiago Mateus Cabaço e Cabaço</td>\n",
       "      <td>4.0</td>\n",
       "      <td>7.5</td>\n",
       "      <td>Tiago Cabaço</td>\n",
       "      <td>15.5</td>\n",
       "      <td>Dezembro 2008</td>\n",
       "      <td>Cor vermelha brilhante e aromas iniciais domin...</td>\n",
       "      <td>Tem uma cor atraente e um aroma intenso a frut...</td>\n",
       "      <td>https://osvinhos.blogspot.pt/2010/03/1232-beb-...</td>\n",
       "    </tr>\n",
       "    <tr>\n",
       "      <th>1</th>\n",
       "      <td>.Beb 2009</td>\n",
       "      <td>Regional Alentejo</td>\n",
       "      <td>2009</td>\n",
       "      <td>Red</td>\n",
       "      <td>Cabernet Sauvignon, Syrah, Alicante Bouschet e...</td>\n",
       "      <td>14.0</td>\n",
       "      <td>Tiago Mateus Cabaço e Cabaço</td>\n",
       "      <td>7.5</td>\n",
       "      <td>10.0</td>\n",
       "      <td>Susana Esteban</td>\n",
       "      <td>16.0</td>\n",
       "      <td>Novembro 2012</td>\n",
       "      <td>Cor avermelhada e nariz muito aromático, onde ...</td>\n",
       "      <td>A escolha criteriosa das melhores parcelas das...</td>\n",
       "      <td>https://osvinhos.blogspot.pt/2013/08/2803-beb-...</td>\n",
       "    </tr>\n",
       "    <tr>\n",
       "      <th>2</th>\n",
       "      <td>.Beb 2010</td>\n",
       "      <td>Regional Alentejo</td>\n",
       "      <td>2010</td>\n",
       "      <td>Red</td>\n",
       "      <td>Cabernet Sauvignon, Syrah, Alicante Bouschet e...</td>\n",
       "      <td>14.0</td>\n",
       "      <td>Tiago Mateus Cabaço e Cabaço</td>\n",
       "      <td>7.5</td>\n",
       "      <td>10.0</td>\n",
       "      <td>Tiago Cabaço</td>\n",
       "      <td>16.0</td>\n",
       "      <td>Agosto 2013</td>\n",
       "      <td>Apresenta uma cor rubi agradavelmente concentr...</td>\n",
       "      <td>A escolha criteriosa das melhores parcelas das...</td>\n",
       "      <td>https://osvinhos.blogspot.pt/2014/01/2988-beb-...</td>\n",
       "    </tr>\n",
       "    <tr>\n",
       "      <th>3</th>\n",
       "      <td>.Beb 2011</td>\n",
       "      <td>Regional Alentejo</td>\n",
       "      <td>2011</td>\n",
       "      <td>White</td>\n",
       "      <td>Arinto, Roupeiro e Viognier</td>\n",
       "      <td>13.5</td>\n",
       "      <td>Tiago Mateus Cabaço e Cabaço</td>\n",
       "      <td>7.5</td>\n",
       "      <td>10.0</td>\n",
       "      <td>Tiago Cabaço e Susana Esteban</td>\n",
       "      <td>15.5</td>\n",
       "      <td>Setembro 2012</td>\n",
       "      <td>Cor amarela brilhante e nariz delicadamente ma...</td>\n",
       "      <td>Associámos uma vinha muito velha de Roupeiro c...</td>\n",
       "      <td>https://osvinhos.blogspot.pt/2013/09/2820-beb-...</td>\n",
       "    </tr>\n",
       "    <tr>\n",
       "      <th>4</th>\n",
       "      <td>.Beb 2012</td>\n",
       "      <td>Regional Alentejo</td>\n",
       "      <td>2012</td>\n",
       "      <td>White</td>\n",
       "      <td>Encruzado, Verdelho e Viognier</td>\n",
       "      <td>13.5</td>\n",
       "      <td>Tiago Mateus Cabaço e Cabaço</td>\n",
       "      <td>4.0</td>\n",
       "      <td>7.5</td>\n",
       "      <td>Tiago Cabaço e Susana Esteban</td>\n",
       "      <td>16.0</td>\n",
       "      <td>Julho 2014</td>\n",
       "      <td>Apresenta uma cor amarela ligeiramente pálida ...</td>\n",
       "      <td>Associámos a estrutura e complexidade do Encru...</td>\n",
       "      <td>https://osvinhos.blogspot.pt/2015/06/3639-beb-...</td>\n",
       "    </tr>\n",
       "  </tbody>\n",
       "</table>\n",
       "</div>"
      ],
      "text/plain": [
       "        name             region  Year  Color  \\\n",
       "0  .Beb 2007  Regional Alentejo  2007   Rosé   \n",
       "1  .Beb 2009  Regional Alentejo  2009    Red   \n",
       "2  .Beb 2010  Regional Alentejo  2010    Red   \n",
       "3  .Beb 2011  Regional Alentejo  2011  White   \n",
       "4  .Beb 2012  Regional Alentejo  2012  White   \n",
       "\n",
       "                                              Castes  AlcoholPercentage  \\\n",
       "0       Cabernet Sauvignon, Syrah e Touriga Nacional               13.5   \n",
       "1  Cabernet Sauvignon, Syrah, Alicante Bouschet e...               14.0   \n",
       "2  Cabernet Sauvignon, Syrah, Alicante Bouschet e...               14.0   \n",
       "3                        Arinto, Roupeiro e Viognier               13.5   \n",
       "4                     Encruzado, Verdelho e Viognier               13.5   \n",
       "\n",
       "                          brand  MinimunPrice  MaximumPrice  \\\n",
       "0  Tiago Mateus Cabaço e Cabaço           4.0           7.5   \n",
       "1  Tiago Mateus Cabaço e Cabaço           7.5          10.0   \n",
       "2  Tiago Mateus Cabaço e Cabaço           7.5          10.0   \n",
       "3  Tiago Mateus Cabaço e Cabaço           7.5          10.0   \n",
       "4  Tiago Mateus Cabaço e Cabaço           4.0           7.5   \n",
       "\n",
       "                           Judge  JudgeRating           Date  \\\n",
       "0                   Tiago Cabaço         15.5  Dezembro 2008   \n",
       "1                 Susana Esteban         16.0  Novembro 2012   \n",
       "2                   Tiago Cabaço         16.0    Agosto 2013   \n",
       "3  Tiago Cabaço e Susana Esteban         15.5  Setembro 2012   \n",
       "4  Tiago Cabaço e Susana Esteban         16.0     Julho 2014   \n",
       "\n",
       "                                          JudgeNotes  \\\n",
       "0  Cor vermelha brilhante e aromas iniciais domin...   \n",
       "1  Cor avermelhada e nariz muito aromático, onde ...   \n",
       "2  Apresenta uma cor rubi agradavelmente concentr...   \n",
       "3  Cor amarela brilhante e nariz delicadamente ma...   \n",
       "4  Apresenta uma cor amarela ligeiramente pálida ...   \n",
       "\n",
       "                                               Label  \\\n",
       "0  Tem uma cor atraente e um aroma intenso a frut...   \n",
       "1  A escolha criteriosa das melhores parcelas das...   \n",
       "2  A escolha criteriosa das melhores parcelas das...   \n",
       "3  Associámos uma vinha muito velha de Roupeiro c...   \n",
       "4  Associámos a estrutura e complexidade do Encru...   \n",
       "\n",
       "                                                Link  \n",
       "0  https://osvinhos.blogspot.pt/2010/03/1232-beb-...  \n",
       "1  https://osvinhos.blogspot.pt/2013/08/2803-beb-...  \n",
       "2  https://osvinhos.blogspot.pt/2014/01/2988-beb-...  \n",
       "3  https://osvinhos.blogspot.pt/2013/09/2820-beb-...  \n",
       "4  https://osvinhos.blogspot.pt/2015/06/3639-beb-...  "
      ]
     },
     "execution_count": 6,
     "metadata": {},
     "output_type": "execute_result"
    }
   ],
   "source": [
    "blogOsVinhos.head()"
   ]
  },
  {
   "cell_type": "code",
   "execution_count": 7,
   "metadata": {
    "id": "izutGnCSYlK4"
   },
   "outputs": [],
   "source": [
    "blogOsVinhos['Castes'] = blogOsVinhos['Castes'].apply(clean_doc)\n",
    "blogOsVinhos['processed_text'] = blogOsVinhos['JudgeNotes'].apply(clean_doc)"
   ]
  },
  {
   "cell_type": "code",
   "execution_count": 8,
   "metadata": {
    "colab": {
     "base_uri": "https://localhost:8080/",
     "height": 424
    },
    "id": "x1UkugWHGX6N",
    "outputId": "2e57935f-123f-4d32-c100-924ac89ab447"
   },
   "outputs": [
    {
     "data": {
      "text/html": [
       "<div>\n",
       "<style scoped>\n",
       "    .dataframe tbody tr th:only-of-type {\n",
       "        vertical-align: middle;\n",
       "    }\n",
       "\n",
       "    .dataframe tbody tr th {\n",
       "        vertical-align: top;\n",
       "    }\n",
       "\n",
       "    .dataframe thead th {\n",
       "        text-align: right;\n",
       "    }\n",
       "</style>\n",
       "<table border=\"1\" class=\"dataframe\">\n",
       "  <thead>\n",
       "    <tr style=\"text-align: right;\">\n",
       "      <th></th>\n",
       "      <th>name</th>\n",
       "      <th>region</th>\n",
       "      <th>Year</th>\n",
       "      <th>Color</th>\n",
       "      <th>Castes</th>\n",
       "      <th>AlcoholPercentage</th>\n",
       "      <th>brand</th>\n",
       "      <th>MinimunPrice</th>\n",
       "      <th>MaximumPrice</th>\n",
       "      <th>Judge</th>\n",
       "      <th>JudgeRating</th>\n",
       "      <th>Date</th>\n",
       "      <th>JudgeNotes</th>\n",
       "      <th>Label</th>\n",
       "      <th>Link</th>\n",
       "      <th>processed_text</th>\n",
       "    </tr>\n",
       "  </thead>\n",
       "  <tbody>\n",
       "    <tr>\n",
       "      <th>0</th>\n",
       "      <td>.Beb 2007</td>\n",
       "      <td>Regional Alentejo</td>\n",
       "      <td>2007</td>\n",
       "      <td>Rosé</td>\n",
       "      <td>[cabernet, sauvignon, syrah, touriga, nacional]</td>\n",
       "      <td>13.5</td>\n",
       "      <td>Tiago Mateus Cabaço e Cabaço</td>\n",
       "      <td>4.0</td>\n",
       "      <td>7.5</td>\n",
       "      <td>Tiago Cabaço</td>\n",
       "      <td>15.5</td>\n",
       "      <td>Dezembro 2008</td>\n",
       "      <td>Cor vermelha brilhante e aromas iniciais domin...</td>\n",
       "      <td>Tem uma cor atraente e um aroma intenso a frut...</td>\n",
       "      <td>https://osvinhos.blogspot.pt/2010/03/1232-beb-...</td>\n",
       "      <td>[vermelha, brilhante, aromas, iniciais, domina...</td>\n",
       "    </tr>\n",
       "    <tr>\n",
       "      <th>1</th>\n",
       "      <td>.Beb 2009</td>\n",
       "      <td>Regional Alentejo</td>\n",
       "      <td>2009</td>\n",
       "      <td>Red</td>\n",
       "      <td>[cabernet, sauvignon, syrah, alicante, bousche...</td>\n",
       "      <td>14.0</td>\n",
       "      <td>Tiago Mateus Cabaço e Cabaço</td>\n",
       "      <td>7.5</td>\n",
       "      <td>10.0</td>\n",
       "      <td>Susana Esteban</td>\n",
       "      <td>16.0</td>\n",
       "      <td>Novembro 2012</td>\n",
       "      <td>Cor avermelhada e nariz muito aromático, onde ...</td>\n",
       "      <td>A escolha criteriosa das melhores parcelas das...</td>\n",
       "      <td>https://osvinhos.blogspot.pt/2013/08/2803-beb-...</td>\n",
       "      <td>[avermelhada, nariz, muito, aromtico, onde, no...</td>\n",
       "    </tr>\n",
       "    <tr>\n",
       "      <th>2</th>\n",
       "      <td>.Beb 2010</td>\n",
       "      <td>Regional Alentejo</td>\n",
       "      <td>2010</td>\n",
       "      <td>Red</td>\n",
       "      <td>[cabernet, sauvignon, syrah, alicante, bousche...</td>\n",
       "      <td>14.0</td>\n",
       "      <td>Tiago Mateus Cabaço e Cabaço</td>\n",
       "      <td>7.5</td>\n",
       "      <td>10.0</td>\n",
       "      <td>Tiago Cabaço</td>\n",
       "      <td>16.0</td>\n",
       "      <td>Agosto 2013</td>\n",
       "      <td>Apresenta uma cor rubi agradavelmente concentr...</td>\n",
       "      <td>A escolha criteriosa das melhores parcelas das...</td>\n",
       "      <td>https://osvinhos.blogspot.pt/2014/01/2988-beb-...</td>\n",
       "      <td>[apresenta, rubi, agradavelmente, concentrada,...</td>\n",
       "    </tr>\n",
       "    <tr>\n",
       "      <th>3</th>\n",
       "      <td>.Beb 2011</td>\n",
       "      <td>Regional Alentejo</td>\n",
       "      <td>2011</td>\n",
       "      <td>White</td>\n",
       "      <td>[arinto, roupeiro, viognier]</td>\n",
       "      <td>13.5</td>\n",
       "      <td>Tiago Mateus Cabaço e Cabaço</td>\n",
       "      <td>7.5</td>\n",
       "      <td>10.0</td>\n",
       "      <td>Tiago Cabaço e Susana Esteban</td>\n",
       "      <td>15.5</td>\n",
       "      <td>Setembro 2012</td>\n",
       "      <td>Cor amarela brilhante e nariz delicadamente ma...</td>\n",
       "      <td>Associámos uma vinha muito velha de Roupeiro c...</td>\n",
       "      <td>https://osvinhos.blogspot.pt/2013/09/2820-beb-...</td>\n",
       "      <td>[amarela, brilhante, nariz, delicadamente, mar...</td>\n",
       "    </tr>\n",
       "    <tr>\n",
       "      <th>4</th>\n",
       "      <td>.Beb 2012</td>\n",
       "      <td>Regional Alentejo</td>\n",
       "      <td>2012</td>\n",
       "      <td>White</td>\n",
       "      <td>[encruzado, verdelho, viognier]</td>\n",
       "      <td>13.5</td>\n",
       "      <td>Tiago Mateus Cabaço e Cabaço</td>\n",
       "      <td>4.0</td>\n",
       "      <td>7.5</td>\n",
       "      <td>Tiago Cabaço e Susana Esteban</td>\n",
       "      <td>16.0</td>\n",
       "      <td>Julho 2014</td>\n",
       "      <td>Apresenta uma cor amarela ligeiramente pálida ...</td>\n",
       "      <td>Associámos a estrutura e complexidade do Encru...</td>\n",
       "      <td>https://osvinhos.blogspot.pt/2015/06/3639-beb-...</td>\n",
       "      <td>[apresenta, amarela, ligeiramente, plida, nari...</td>\n",
       "    </tr>\n",
       "  </tbody>\n",
       "</table>\n",
       "</div>"
      ],
      "text/plain": [
       "        name             region  Year  Color  \\\n",
       "0  .Beb 2007  Regional Alentejo  2007   Rosé   \n",
       "1  .Beb 2009  Regional Alentejo  2009    Red   \n",
       "2  .Beb 2010  Regional Alentejo  2010    Red   \n",
       "3  .Beb 2011  Regional Alentejo  2011  White   \n",
       "4  .Beb 2012  Regional Alentejo  2012  White   \n",
       "\n",
       "                                              Castes  AlcoholPercentage  \\\n",
       "0    [cabernet, sauvignon, syrah, touriga, nacional]               13.5   \n",
       "1  [cabernet, sauvignon, syrah, alicante, bousche...               14.0   \n",
       "2  [cabernet, sauvignon, syrah, alicante, bousche...               14.0   \n",
       "3                       [arinto, roupeiro, viognier]               13.5   \n",
       "4                    [encruzado, verdelho, viognier]               13.5   \n",
       "\n",
       "                          brand  MinimunPrice  MaximumPrice  \\\n",
       "0  Tiago Mateus Cabaço e Cabaço           4.0           7.5   \n",
       "1  Tiago Mateus Cabaço e Cabaço           7.5          10.0   \n",
       "2  Tiago Mateus Cabaço e Cabaço           7.5          10.0   \n",
       "3  Tiago Mateus Cabaço e Cabaço           7.5          10.0   \n",
       "4  Tiago Mateus Cabaço e Cabaço           4.0           7.5   \n",
       "\n",
       "                           Judge  JudgeRating           Date  \\\n",
       "0                   Tiago Cabaço         15.5  Dezembro 2008   \n",
       "1                 Susana Esteban         16.0  Novembro 2012   \n",
       "2                   Tiago Cabaço         16.0    Agosto 2013   \n",
       "3  Tiago Cabaço e Susana Esteban         15.5  Setembro 2012   \n",
       "4  Tiago Cabaço e Susana Esteban         16.0     Julho 2014   \n",
       "\n",
       "                                          JudgeNotes  \\\n",
       "0  Cor vermelha brilhante e aromas iniciais domin...   \n",
       "1  Cor avermelhada e nariz muito aromático, onde ...   \n",
       "2  Apresenta uma cor rubi agradavelmente concentr...   \n",
       "3  Cor amarela brilhante e nariz delicadamente ma...   \n",
       "4  Apresenta uma cor amarela ligeiramente pálida ...   \n",
       "\n",
       "                                               Label  \\\n",
       "0  Tem uma cor atraente e um aroma intenso a frut...   \n",
       "1  A escolha criteriosa das melhores parcelas das...   \n",
       "2  A escolha criteriosa das melhores parcelas das...   \n",
       "3  Associámos uma vinha muito velha de Roupeiro c...   \n",
       "4  Associámos a estrutura e complexidade do Encru...   \n",
       "\n",
       "                                                Link  \\\n",
       "0  https://osvinhos.blogspot.pt/2010/03/1232-beb-...   \n",
       "1  https://osvinhos.blogspot.pt/2013/08/2803-beb-...   \n",
       "2  https://osvinhos.blogspot.pt/2014/01/2988-beb-...   \n",
       "3  https://osvinhos.blogspot.pt/2013/09/2820-beb-...   \n",
       "4  https://osvinhos.blogspot.pt/2015/06/3639-beb-...   \n",
       "\n",
       "                                      processed_text  \n",
       "0  [vermelha, brilhante, aromas, iniciais, domina...  \n",
       "1  [avermelhada, nariz, muito, aromtico, onde, no...  \n",
       "2  [apresenta, rubi, agradavelmente, concentrada,...  \n",
       "3  [amarela, brilhante, nariz, delicadamente, mar...  \n",
       "4  [apresenta, amarela, ligeiramente, plida, nari...  "
      ]
     },
     "execution_count": 8,
     "metadata": {},
     "output_type": "execute_result"
    }
   ],
   "source": [
    "blogOsVinhos.head()"
   ]
  },
  {
   "cell_type": "code",
   "execution_count": 9,
   "metadata": {
    "colab": {
     "base_uri": "https://localhost:8080/",
     "height": 206
    },
    "id": "6wHgHk25GZup",
    "outputId": "302d78a6-2951-45dc-d9fc-1e578a9a5c01"
   },
   "outputs": [
    {
     "data": {
      "text/html": [
       "<div>\n",
       "<style scoped>\n",
       "    .dataframe tbody tr th:only-of-type {\n",
       "        vertical-align: middle;\n",
       "    }\n",
       "\n",
       "    .dataframe tbody tr th {\n",
       "        vertical-align: top;\n",
       "    }\n",
       "\n",
       "    .dataframe thead th {\n",
       "        text-align: right;\n",
       "    }\n",
       "</style>\n",
       "<table border=\"1\" class=\"dataframe\">\n",
       "  <thead>\n",
       "    <tr style=\"text-align: right;\">\n",
       "      <th></th>\n",
       "      <th>Unnamed: 0</th>\n",
       "      <th>name</th>\n",
       "      <th>reviews.doRecommend</th>\n",
       "      <th>reviews.text</th>\n",
       "      <th>reviews.rating</th>\n",
       "      <th>text</th>\n",
       "      <th>processed_text</th>\n",
       "      <th>cat_rec</th>\n",
       "      <th>rec</th>\n",
       "    </tr>\n",
       "  </thead>\n",
       "  <tbody>\n",
       "    <tr>\n",
       "      <th>0</th>\n",
       "      <td>0</td>\n",
       "      <td>Ecco Domani174 Pinot Grigio - 750ml Bottle</td>\n",
       "      <td>True</td>\n",
       "      <td>This a fantastic white wine for any occasion!</td>\n",
       "      <td>5.0</td>\n",
       "      <td>My Favorite White Wine This a fantastic white ...</td>\n",
       "      <td>['my', 'favorite', 'white', 'wine', 'this', 'f...</td>\n",
       "      <td>1</td>\n",
       "      <td>yes</td>\n",
       "    </tr>\n",
       "    <tr>\n",
       "      <th>1</th>\n",
       "      <td>1</td>\n",
       "      <td>Fresh Craft174 Mango Citrus - 4pk / 250ml Bottle</td>\n",
       "      <td>True</td>\n",
       "      <td>Tart, not sweet...very refreshing and delicious!</td>\n",
       "      <td>5.0</td>\n",
       "      <td>Yum!! Tart, not sweet...very refreshing and de...</td>\n",
       "      <td>['yum', 'tart', 'sweetvery', 'refreshing', 'de...</td>\n",
       "      <td>1</td>\n",
       "      <td>yes</td>\n",
       "    </tr>\n",
       "    <tr>\n",
       "      <th>2</th>\n",
       "      <td>2</td>\n",
       "      <td>1000 Stories174 Zinfandel - 750ml Bottle</td>\n",
       "      <td>True</td>\n",
       "      <td>I was given this wine so it was a delightful s...</td>\n",
       "      <td>5.0</td>\n",
       "      <td>A New Favorite! I was given this wine so it wa...</td>\n",
       "      <td>['a', 'new', 'favorite', 'i', 'given', 'wine',...</td>\n",
       "      <td>1</td>\n",
       "      <td>yes</td>\n",
       "    </tr>\n",
       "    <tr>\n",
       "      <th>3</th>\n",
       "      <td>3</td>\n",
       "      <td>1000 Stories174 Zinfandel - 750ml Bottle</td>\n",
       "      <td>True</td>\n",
       "      <td>This is a phenomenal wine and my new favorite ...</td>\n",
       "      <td>5.0</td>\n",
       "      <td>Bold, Flavorful, Aromatic, Delicious This is a...</td>\n",
       "      <td>['bold', 'flavorful', 'aromatic', 'delicious',...</td>\n",
       "      <td>1</td>\n",
       "      <td>yes</td>\n",
       "    </tr>\n",
       "    <tr>\n",
       "      <th>4</th>\n",
       "      <td>4</td>\n",
       "      <td>Pink Moscato - 3l Bottle - Wine Cube153</td>\n",
       "      <td>True</td>\n",
       "      <td>4 750ml bottles for the price of two With way ...</td>\n",
       "      <td>5.0</td>\n",
       "      <td>Yum! Plus, Environmentally Friendly! 4 750ml b...</td>\n",
       "      <td>['yum', 'plus', 'environmentally', 'friendly',...</td>\n",
       "      <td>1</td>\n",
       "      <td>yes</td>\n",
       "    </tr>\n",
       "  </tbody>\n",
       "</table>\n",
       "</div>"
      ],
      "text/plain": [
       "   Unnamed: 0                                              name  \\\n",
       "0           0        Ecco Domani174 Pinot Grigio - 750ml Bottle   \n",
       "1           1  Fresh Craft174 Mango Citrus - 4pk / 250ml Bottle   \n",
       "2           2          1000 Stories174 Zinfandel - 750ml Bottle   \n",
       "3           3          1000 Stories174 Zinfandel - 750ml Bottle   \n",
       "4           4           Pink Moscato - 3l Bottle - Wine Cube153   \n",
       "\n",
       "   reviews.doRecommend                                       reviews.text  \\\n",
       "0                 True      This a fantastic white wine for any occasion!   \n",
       "1                 True   Tart, not sweet...very refreshing and delicious!   \n",
       "2                 True  I was given this wine so it was a delightful s...   \n",
       "3                 True  This is a phenomenal wine and my new favorite ...   \n",
       "4                 True  4 750ml bottles for the price of two With way ...   \n",
       "\n",
       "   reviews.rating                                               text  \\\n",
       "0             5.0  My Favorite White Wine This a fantastic white ...   \n",
       "1             5.0  Yum!! Tart, not sweet...very refreshing and de...   \n",
       "2             5.0  A New Favorite! I was given this wine so it wa...   \n",
       "3             5.0  Bold, Flavorful, Aromatic, Delicious This is a...   \n",
       "4             5.0  Yum! Plus, Environmentally Friendly! 4 750ml b...   \n",
       "\n",
       "                                      processed_text  cat_rec  rec  \n",
       "0  ['my', 'favorite', 'white', 'wine', 'this', 'f...        1  yes  \n",
       "1  ['yum', 'tart', 'sweetvery', 'refreshing', 'de...        1  yes  \n",
       "2  ['a', 'new', 'favorite', 'i', 'given', 'wine',...        1  yes  \n",
       "3  ['bold', 'flavorful', 'aromatic', 'delicious',...        1  yes  \n",
       "4  ['yum', 'plus', 'environmentally', 'friendly',...        1  yes  "
      ]
     },
     "execution_count": 9,
     "metadata": {},
     "output_type": "execute_result"
    }
   ],
   "source": [
    "data_df.head()"
   ]
  },
  {
   "cell_type": "code",
   "execution_count": 10,
   "metadata": {
    "colab": {
     "base_uri": "https://localhost:8080/"
    },
    "id": "4k70VeN8G6Yu",
    "outputId": "b28eab56-b954-47bd-8eb1-5987c1877dc7"
   },
   "outputs": [
    {
     "data": {
      "text/plain": [
       "['vermelha',\n",
       " 'brilhante',\n",
       " 'aromas',\n",
       " 'iniciais',\n",
       " 'dominados',\n",
       " 'apimentado',\n",
       " 'aliado',\n",
       " 'notas',\n",
       " 'frutadas',\n",
       " 'foram',\n",
       " 'conjunto',\n",
       " 'interessante',\n",
       " 'boca',\n",
       " 'presena',\n",
       " 'agradvel',\n",
       " 'fresco',\n",
       " 'delicado',\n",
       " 'sempre',\n",
       " 'dominado',\n",
       " 'notas',\n",
       " 'frutadas',\n",
       " 'final',\n",
       " 'mdio',\n",
       " 'comprimento',\n",
       " 'persistente',\n",
       " 'sabor']"
      ]
     },
     "execution_count": 10,
     "metadata": {},
     "output_type": "execute_result"
    }
   ],
   "source": [
    "blogOsVinhos.iloc[0].processed_text"
   ]
  },
  {
   "cell_type": "code",
   "execution_count": 11,
   "metadata": {
    "id": "6YFKwRKDbZVv"
   },
   "outputs": [],
   "source": [
    "blogOsVinhos = blogOsVinhos.explode('Castes')"
   ]
  },
  {
   "cell_type": "code",
   "execution_count": 12,
   "metadata": {
    "id": "X3Efz5cHX6I4"
   },
   "outputs": [],
   "source": [
    "blogOsVinhos['variety'] = blogOsVinhos['Castes'] "
   ]
  },
  {
   "cell_type": "code",
   "execution_count": 13,
   "metadata": {
    "id": "1gN_Vk9ido3O"
   },
   "outputs": [],
   "source": [
    "varieties = [variety.lower() for variety in varieties_df.variety.unique()] + [\"white\", \"red\", \"syrah\"] + list(blogOsVinhos.variety.unique())\n",
    "varieties = [item for item in varieties if not(pd.isnull(item)) == True]"
   ]
  },
  {
   "cell_type": "code",
   "execution_count": 14,
   "metadata": {
    "id": "WxggnDMCQbIi"
   },
   "outputs": [],
   "source": [
    "data_df['name_lower'] = data_df.name.apply(lambda xyz: xyz.lower())"
   ]
  },
  {
   "cell_type": "code",
   "execution_count": 15,
   "metadata": {
    "id": "65l8tRCLc9-X"
   },
   "outputs": [],
   "source": [
    "def get_variety(text):\n",
    "  for variety in varieties:\n",
    "    if variety.lower() in text:\n",
    "      return variety"
   ]
  },
  {
   "cell_type": "code",
   "execution_count": 16,
   "metadata": {
    "id": "3dowtFRwXhIp"
   },
   "outputs": [],
   "source": [
    "data_df['variety'] = data_df.name_lower.apply(get_variety)"
   ]
  },
  {
   "cell_type": "code",
   "execution_count": 17,
   "metadata": {
    "id": "PZPuhMs2eKz7"
   },
   "outputs": [],
   "source": [
    "#data_df = data_df.fillna('white')\n",
    "data_df = data_df.fillna(value=np.nan)\n",
    "data_df.dropna(subset=['variety'], inplace=True)"
   ]
  },
  {
   "cell_type": "code",
   "execution_count": 18,
   "metadata": {
    "colab": {
     "base_uri": "https://localhost:8080/",
     "height": 354
    },
    "id": "JTdKk8mSgrWF",
    "outputId": "85f13f38-5830-4100-d72a-062017e26fbb"
   },
   "outputs": [
    {
     "data": {
      "text/html": [
       "<div>\n",
       "<style scoped>\n",
       "    .dataframe tbody tr th:only-of-type {\n",
       "        vertical-align: middle;\n",
       "    }\n",
       "\n",
       "    .dataframe tbody tr th {\n",
       "        vertical-align: top;\n",
       "    }\n",
       "\n",
       "    .dataframe thead th {\n",
       "        text-align: right;\n",
       "    }\n",
       "</style>\n",
       "<table border=\"1\" class=\"dataframe\">\n",
       "  <thead>\n",
       "    <tr style=\"text-align: right;\">\n",
       "      <th></th>\n",
       "      <th>Unnamed: 0</th>\n",
       "      <th>name</th>\n",
       "      <th>reviews.doRecommend</th>\n",
       "      <th>reviews.text</th>\n",
       "      <th>reviews.rating</th>\n",
       "      <th>text</th>\n",
       "      <th>processed_text</th>\n",
       "      <th>cat_rec</th>\n",
       "      <th>rec</th>\n",
       "      <th>name_lower</th>\n",
       "      <th>variety</th>\n",
       "    </tr>\n",
       "  </thead>\n",
       "  <tbody>\n",
       "    <tr>\n",
       "      <th>0</th>\n",
       "      <td>0</td>\n",
       "      <td>Ecco Domani174 Pinot Grigio - 750ml Bottle</td>\n",
       "      <td>True</td>\n",
       "      <td>This a fantastic white wine for any occasion!</td>\n",
       "      <td>5.0</td>\n",
       "      <td>My Favorite White Wine This a fantastic white ...</td>\n",
       "      <td>['my', 'favorite', 'white', 'wine', 'this', 'f...</td>\n",
       "      <td>1</td>\n",
       "      <td>yes</td>\n",
       "      <td>ecco domani174 pinot grigio - 750ml bottle</td>\n",
       "      <td>pinot grigio</td>\n",
       "    </tr>\n",
       "    <tr>\n",
       "      <th>2</th>\n",
       "      <td>2</td>\n",
       "      <td>1000 Stories174 Zinfandel - 750ml Bottle</td>\n",
       "      <td>True</td>\n",
       "      <td>I was given this wine so it was a delightful s...</td>\n",
       "      <td>5.0</td>\n",
       "      <td>A New Favorite! I was given this wine so it wa...</td>\n",
       "      <td>['a', 'new', 'favorite', 'i', 'given', 'wine',...</td>\n",
       "      <td>1</td>\n",
       "      <td>yes</td>\n",
       "      <td>1000 stories174 zinfandel - 750ml bottle</td>\n",
       "      <td>zinfandel</td>\n",
       "    </tr>\n",
       "    <tr>\n",
       "      <th>3</th>\n",
       "      <td>3</td>\n",
       "      <td>1000 Stories174 Zinfandel - 750ml Bottle</td>\n",
       "      <td>True</td>\n",
       "      <td>This is a phenomenal wine and my new favorite ...</td>\n",
       "      <td>5.0</td>\n",
       "      <td>Bold, Flavorful, Aromatic, Delicious This is a...</td>\n",
       "      <td>['bold', 'flavorful', 'aromatic', 'delicious',...</td>\n",
       "      <td>1</td>\n",
       "      <td>yes</td>\n",
       "      <td>1000 stories174 zinfandel - 750ml bottle</td>\n",
       "      <td>zinfandel</td>\n",
       "    </tr>\n",
       "    <tr>\n",
       "      <th>4</th>\n",
       "      <td>4</td>\n",
       "      <td>Pink Moscato - 3l Bottle - Wine Cube153</td>\n",
       "      <td>True</td>\n",
       "      <td>4 750ml bottles for the price of two With way ...</td>\n",
       "      <td>5.0</td>\n",
       "      <td>Yum! Plus, Environmentally Friendly! 4 750ml b...</td>\n",
       "      <td>['yum', 'plus', 'environmentally', 'friendly',...</td>\n",
       "      <td>1</td>\n",
       "      <td>yes</td>\n",
       "      <td>pink moscato - 3l bottle - wine cube153</td>\n",
       "      <td>moscato</td>\n",
       "    </tr>\n",
       "    <tr>\n",
       "      <th>6</th>\n",
       "      <td>9</td>\n",
       "      <td>Charles Charles174 Red Blend - 750ml Bottle</td>\n",
       "      <td>True</td>\n",
       "      <td>This is a very smooth red with Aromas of cocoa...</td>\n",
       "      <td>5.0</td>\n",
       "      <td>Charles &amp; Charles Red Blend This is a very smo...</td>\n",
       "      <td>['charles', 'charles', 'red', 'blend', 'this',...</td>\n",
       "      <td>1</td>\n",
       "      <td>yes</td>\n",
       "      <td>charles charles174 red blend - 750ml bottle</td>\n",
       "      <td>red blend</td>\n",
       "    </tr>\n",
       "  </tbody>\n",
       "</table>\n",
       "</div>"
      ],
      "text/plain": [
       "   Unnamed: 0                                         name  \\\n",
       "0           0   Ecco Domani174 Pinot Grigio - 750ml Bottle   \n",
       "2           2     1000 Stories174 Zinfandel - 750ml Bottle   \n",
       "3           3     1000 Stories174 Zinfandel - 750ml Bottle   \n",
       "4           4      Pink Moscato - 3l Bottle - Wine Cube153   \n",
       "6           9  Charles Charles174 Red Blend - 750ml Bottle   \n",
       "\n",
       "   reviews.doRecommend                                       reviews.text  \\\n",
       "0                 True      This a fantastic white wine for any occasion!   \n",
       "2                 True  I was given this wine so it was a delightful s...   \n",
       "3                 True  This is a phenomenal wine and my new favorite ...   \n",
       "4                 True  4 750ml bottles for the price of two With way ...   \n",
       "6                 True  This is a very smooth red with Aromas of cocoa...   \n",
       "\n",
       "   reviews.rating                                               text  \\\n",
       "0             5.0  My Favorite White Wine This a fantastic white ...   \n",
       "2             5.0  A New Favorite! I was given this wine so it wa...   \n",
       "3             5.0  Bold, Flavorful, Aromatic, Delicious This is a...   \n",
       "4             5.0  Yum! Plus, Environmentally Friendly! 4 750ml b...   \n",
       "6             5.0  Charles & Charles Red Blend This is a very smo...   \n",
       "\n",
       "                                      processed_text  cat_rec  rec  \\\n",
       "0  ['my', 'favorite', 'white', 'wine', 'this', 'f...        1  yes   \n",
       "2  ['a', 'new', 'favorite', 'i', 'given', 'wine',...        1  yes   \n",
       "3  ['bold', 'flavorful', 'aromatic', 'delicious',...        1  yes   \n",
       "4  ['yum', 'plus', 'environmentally', 'friendly',...        1  yes   \n",
       "6  ['charles', 'charles', 'red', 'blend', 'this',...        1  yes   \n",
       "\n",
       "                                    name_lower       variety  \n",
       "0   ecco domani174 pinot grigio - 750ml bottle  pinot grigio  \n",
       "2     1000 stories174 zinfandel - 750ml bottle     zinfandel  \n",
       "3     1000 stories174 zinfandel - 750ml bottle     zinfandel  \n",
       "4      pink moscato - 3l bottle - wine cube153       moscato  \n",
       "6  charles charles174 red blend - 750ml bottle     red blend  "
      ]
     },
     "execution_count": 18,
     "metadata": {},
     "output_type": "execute_result"
    }
   ],
   "source": [
    "data_df.head()"
   ]
  },
  {
   "cell_type": "code",
   "execution_count": 19,
   "metadata": {
    "id": "3jVhYtuwirmc"
   },
   "outputs": [],
   "source": [
    "data_df = data_df[['variety', 'processed_text']]"
   ]
  },
  {
   "cell_type": "code",
   "execution_count": 20,
   "metadata": {
    "id": "LEmSKFE0iw__"
   },
   "outputs": [],
   "source": [
    "blogOsVinhos = blogOsVinhos[['variety', 'processed_text']]"
   ]
  },
  {
   "cell_type": "code",
   "execution_count": 21,
   "metadata": {
    "id": "KaTaS5mzi9TO"
   },
   "outputs": [],
   "source": [
    "#data_df = pd.concat([data_df, blogOsVinhos])\n",
    "data_df = blogOsVinhos"
   ]
  },
  {
   "cell_type": "code",
   "execution_count": 22,
   "metadata": {
    "colab": {
     "base_uri": "https://localhost:8080/",
     "height": 206
    },
    "id": "zlMUXvrjjCRZ",
    "outputId": "6fef6ef3-36c1-4f91-89e5-085fedcb8c7d"
   },
   "outputs": [
    {
     "data": {
      "text/html": [
       "<div>\n",
       "<style scoped>\n",
       "    .dataframe tbody tr th:only-of-type {\n",
       "        vertical-align: middle;\n",
       "    }\n",
       "\n",
       "    .dataframe tbody tr th {\n",
       "        vertical-align: top;\n",
       "    }\n",
       "\n",
       "    .dataframe thead th {\n",
       "        text-align: right;\n",
       "    }\n",
       "</style>\n",
       "<table border=\"1\" class=\"dataframe\">\n",
       "  <thead>\n",
       "    <tr style=\"text-align: right;\">\n",
       "      <th></th>\n",
       "      <th>variety</th>\n",
       "      <th>processed_text</th>\n",
       "    </tr>\n",
       "  </thead>\n",
       "  <tbody>\n",
       "    <tr>\n",
       "      <th>2992</th>\n",
       "      <td>nacional</td>\n",
       "      <td>[rubi, intensa, muito, concentrada, centro, la...</td>\n",
       "    </tr>\n",
       "    <tr>\n",
       "      <th>2992</th>\n",
       "      <td>touriga</td>\n",
       "      <td>[rubi, intensa, muito, concentrada, centro, la...</td>\n",
       "    </tr>\n",
       "    <tr>\n",
       "      <th>2992</th>\n",
       "      <td>franca</td>\n",
       "      <td>[rubi, intensa, muito, concentrada, centro, la...</td>\n",
       "    </tr>\n",
       "    <tr>\n",
       "      <th>2992</th>\n",
       "      <td>cabernet</td>\n",
       "      <td>[rubi, intensa, muito, concentrada, centro, la...</td>\n",
       "    </tr>\n",
       "    <tr>\n",
       "      <th>2992</th>\n",
       "      <td>sauvignon</td>\n",
       "      <td>[rubi, intensa, muito, concentrada, centro, la...</td>\n",
       "    </tr>\n",
       "  </tbody>\n",
       "</table>\n",
       "</div>"
      ],
      "text/plain": [
       "        variety                                     processed_text\n",
       "2992   nacional  [rubi, intensa, muito, concentrada, centro, la...\n",
       "2992    touriga  [rubi, intensa, muito, concentrada, centro, la...\n",
       "2992     franca  [rubi, intensa, muito, concentrada, centro, la...\n",
       "2992   cabernet  [rubi, intensa, muito, concentrada, centro, la...\n",
       "2992  sauvignon  [rubi, intensa, muito, concentrada, centro, la..."
      ]
     },
     "execution_count": 22,
     "metadata": {},
     "output_type": "execute_result"
    }
   ],
   "source": [
    "data_df.tail()"
   ]
  },
  {
   "cell_type": "code",
   "execution_count": 23,
   "metadata": {
    "colab": {
     "base_uri": "https://localhost:8080/",
     "height": 331
    },
    "id": "qrxkVB3LF9NR",
    "outputId": "25d43761-d121-4d0e-87e9-ab29aaeea349"
   },
   "outputs": [
    {
     "data": {
      "text/plain": [
       "<Axes: >"
      ]
     },
     "execution_count": 23,
     "metadata": {},
     "output_type": "execute_result"
    },
    {
     "data": {
      "image/png": "[encoded data removed]",
      "text/plain": [
       "<Figure size 640x480 with 1 Axes>"
      ]
     },
     "metadata": {},
     "output_type": "display_data"
    }
   ],
   "source": [
    "## a peak\n",
    "data_df['variety'][0:400].value_counts().plot.bar()\n",
    "#data_df['variety'].value_counts().plot.bar()"
   ]
  },
  {
   "cell_type": "code",
   "execution_count": 24,
   "metadata": {
    "id": "R6o59crER72M"
   },
   "outputs": [],
   "source": [
    "nan_value = float(\"NaN\")\n",
    "data_df.replace(\"\", nan_value, inplace=True)\n",
    "data_df.replace(\"None\", nan_value, inplace=True)\n",
    "data_df.dropna(subset=['variety'], inplace=True)\n",
    "data_df.dropna(inplace=True)\n",
    "#data_df.drop_duplicates(inplace=True)"
   ]
  },
  {
   "cell_type": "code",
   "execution_count": 25,
   "metadata": {
    "id": "Zy0EhS6OEgQT"
   },
   "outputs": [],
   "source": [
    "data_df.reset_index(inplace=True)\n",
    "data_df.drop(columns=['index'], inplace=True)"
   ]
  },
  {
   "cell_type": "code",
   "execution_count": 26,
   "metadata": {
    "colab": {
     "base_uri": "https://localhost:8080/"
    },
    "id": "r__6iNuSjxu9",
    "outputId": "e9704a89-b137-47aa-cc5b-1f31c8b47b89"
   },
   "outputs": [
    {
     "data": {
      "text/plain": [
       "(10569, 2)"
      ]
     },
     "execution_count": 26,
     "metadata": {},
     "output_type": "execute_result"
    }
   ],
   "source": [
    "data_df.shape"
   ]
  },
  {
   "cell_type": "code",
   "execution_count": 27,
   "metadata": {
    "id": "EOkM-kzsotC0"
   },
   "outputs": [],
   "source": [
    "documents = data_df.processed_text.to_list()\n",
    "string_labels = data_df.variety.to_list()\n",
    "\n",
    "le = preprocessing.LabelEncoder()\n",
    "le.fit(data_df.variety)\n",
    "data_df['cat_variety'] = le.transform(data_df.variety)\n",
    "\n",
    "labels = data_df.cat_variety.to_list()"
   ]
  },
  {
   "cell_type": "code",
   "execution_count": 28,
   "metadata": {
    "colab": {
     "base_uri": "https://localhost:8080/",
     "height": 206
    },
    "id": "dEHNTgcrFVZz",
    "outputId": "eaf7cea9-1823-404f-fbd8-5b78ebbf7044"
   },
   "outputs": [
    {
     "data": {
      "text/html": [
       "<div>\n",
       "<style scoped>\n",
       "    .dataframe tbody tr th:only-of-type {\n",
       "        vertical-align: middle;\n",
       "    }\n",
       "\n",
       "    .dataframe tbody tr th {\n",
       "        vertical-align: top;\n",
       "    }\n",
       "\n",
       "    .dataframe thead th {\n",
       "        text-align: right;\n",
       "    }\n",
       "</style>\n",
       "<table border=\"1\" class=\"dataframe\">\n",
       "  <thead>\n",
       "    <tr style=\"text-align: right;\">\n",
       "      <th></th>\n",
       "      <th>variety</th>\n",
       "      <th>processed_text</th>\n",
       "      <th>cat_variety</th>\n",
       "    </tr>\n",
       "  </thead>\n",
       "  <tbody>\n",
       "    <tr>\n",
       "      <th>10564</th>\n",
       "      <td>nacional</td>\n",
       "      <td>[rubi, intensa, muito, concentrada, centro, la...</td>\n",
       "      <td>144</td>\n",
       "    </tr>\n",
       "    <tr>\n",
       "      <th>10565</th>\n",
       "      <td>touriga</td>\n",
       "      <td>[rubi, intensa, muito, concentrada, centro, la...</td>\n",
       "      <td>204</td>\n",
       "    </tr>\n",
       "    <tr>\n",
       "      <th>10566</th>\n",
       "      <td>franca</td>\n",
       "      <td>[rubi, intensa, muito, concentrada, centro, la...</td>\n",
       "      <td>78</td>\n",
       "    </tr>\n",
       "    <tr>\n",
       "      <th>10567</th>\n",
       "      <td>cabernet</td>\n",
       "      <td>[rubi, intensa, muito, concentrada, centro, la...</td>\n",
       "      <td>35</td>\n",
       "    </tr>\n",
       "    <tr>\n",
       "      <th>10568</th>\n",
       "      <td>sauvignon</td>\n",
       "      <td>[rubi, intensa, muito, concentrada, centro, la...</td>\n",
       "      <td>181</td>\n",
       "    </tr>\n",
       "  </tbody>\n",
       "</table>\n",
       "</div>"
      ],
      "text/plain": [
       "         variety                                     processed_text  \\\n",
       "10564   nacional  [rubi, intensa, muito, concentrada, centro, la...   \n",
       "10565    touriga  [rubi, intensa, muito, concentrada, centro, la...   \n",
       "10566     franca  [rubi, intensa, muito, concentrada, centro, la...   \n",
       "10567   cabernet  [rubi, intensa, muito, concentrada, centro, la...   \n",
       "10568  sauvignon  [rubi, intensa, muito, concentrada, centro, la...   \n",
       "\n",
       "       cat_variety  \n",
       "10564          144  \n",
       "10565          204  \n",
       "10566           78  \n",
       "10567           35  \n",
       "10568          181  "
      ]
     },
     "execution_count": 28,
     "metadata": {},
     "output_type": "execute_result"
    }
   ],
   "source": [
    "data_df.tail()"
   ]
  },
  {
   "cell_type": "code",
   "execution_count": 29,
   "metadata": {
    "id": "fX5707tAHMbX"
   },
   "outputs": [],
   "source": [
    "#type(data_df.iloc[10907].processed_text)"
   ]
  },
  {
   "cell_type": "code",
   "execution_count": 30,
   "metadata": {
    "colab": {
     "base_uri": "https://localhost:8080/"
    },
    "id": "ryj4D48YHPhq",
    "outputId": "631af16d-55e6-4124-be62-06de27d41324"
   },
   "outputs": [
    {
     "data": {
      "text/plain": [
       "list"
      ]
     },
     "execution_count": 30,
     "metadata": {},
     "output_type": "execute_result"
    }
   ],
   "source": [
    "type(data_df.iloc[0].processed_text)"
   ]
  },
  {
   "cell_type": "code",
   "execution_count": 31,
   "metadata": {
    "id": "ciz_m62ssl-l"
   },
   "outputs": [],
   "source": [
    "train_texts, valid_texts, train_labels, valid_labels = train_test_split(documents, labels, test_size=0.33)\n",
    "target_names = varieties"
   ]
  },
  {
   "cell_type": "code",
   "execution_count": 32,
   "metadata": {
    "id": "mapqdr4gsrv6"
   },
   "outputs": [],
   "source": [
    "# tokenize the dataset, truncate when passed `max_length`, \n",
    "# and pad with 0's when less than `max_length`\n",
    "\n",
    "#train_encodings = tokenizer(train_texts, truncation=True, padding=True, max_length=max_length)\n",
    "#valid_encodings = tokenizer(valid_texts, truncation=True, padding=True, max_length=max_length)\n",
    "\n",
    "train_encodings = tokenizer(train_texts, truncation=True, padding=True, max_length=max_length, is_split_into_words=True)\n",
    "valid_encodings = tokenizer(valid_texts, truncation=True, padding=True, max_length=max_length, is_split_into_words=True)"
   ]
  },
  {
   "cell_type": "code",
   "execution_count": 33,
   "metadata": {
    "id": "AZtb_OV6RJ_J"
   },
   "outputs": [],
   "source": [
    "class WineGroupsDataset(torch.utils.data.Dataset):\n",
    "    def __init__(self, encodings, labels):\n",
    "        self.encodings = encodings\n",
    "        self.labels = labels\n",
    "\n",
    "    def __getitem__(self, idx):\n",
    "        item = {k: torch.tensor(v[idx]) for k, v in self.encodings.items()}\n",
    "        item[\"labels\"] = torch.tensor([self.labels[idx]])\n",
    "        return item\n",
    "\n",
    "    def __len__(self):\n",
    "        return len(self.labels)\n",
    "\n",
    "# convert our tokenized data into a torch Dataset\n",
    "train_dataset = WineGroupsDataset(train_encodings, train_labels)\n",
    "valid_dataset = WineGroupsDataset(valid_encodings, valid_labels)"
   ]
  },
  {
   "cell_type": "code",
   "execution_count": 34,
   "metadata": {
    "colab": {
     "base_uri": "https://localhost:8080/",
     "height": 156,
     "referenced_widgets": [
      "710fdbc401274b6fbad094f41cc710a6",
      "164e73cf6bda4b4aa8f11ba75eea3a50",
      "c5973c7cf44447eca7b7fb31d502f741",
      "12ba91253abc4faaa18e61030b4742fe",
      "60745b695edd441c88b298d1ed19be16",
      "5144586cb8ec40878f56e8b55aa573dd",
      "a6910c39d2d24c9f9515571db544f3c4",
      "0d87ac4051b44441bd89bab2ebeb662a",
      "3ff74c51bace4a6e9bf806718c5accca",
      "939ab8309a0245af9af475fa5ab59a17",
      "0130a001e0294b879985f54bad456713"
     ]
    },
    "id": "DCu9_1QxRLKG",
    "outputId": "dedc740c-2126-4325-d048-5e8048a5e3eb"
   },
   "outputs": [
    {
     "name": "stderr",
     "output_type": "stream",
     "text": [
      "Some weights of the model checkpoint at bert-base-uncased were not used when initializing BertForSequenceClassification: ['cls.predictions.transform.LayerNorm.bias', 'cls.predictions.transform.dense.weight', 'cls.predictions.transform.dense.bias', 'cls.seq_relationship.weight', 'cls.predictions.decoder.weight', 'cls.predictions.transform.LayerNorm.weight', 'cls.seq_relationship.bias', 'cls.predictions.bias']\n",
      "- This IS expected if you are initializing BertForSequenceClassification from the checkpoint of a model trained on another task or with another architecture (e.g. initializing a BertForSequenceClassification model from a BertForPreTraining model).\n",
      "- This IS NOT expected if you are initializing BertForSequenceClassification from the checkpoint of a model that you expect to be exactly identical (initializing a BertForSequenceClassification model from a BertForSequenceClassification model).\n",
      "Some weights of BertForSequenceClassification were not initialized from the model checkpoint at bert-base-uncased and are newly initialized: ['classifier.bias', 'classifier.weight']\n",
      "You should probably TRAIN this model on a down-stream task to be able to use it for predictions and inference.\n"
     ]
    }
   ],
   "source": [
    "# load the model and pass to CUDA\n",
    "model = BertForSequenceClassification.from_pretrained(model_name, num_labels=len(target_names))#.to(\"cuda\")"
   ]
  },
  {
   "cell_type": "code",
   "execution_count": 35,
   "metadata": {
    "id": "39hkNJvMRMpK"
   },
   "outputs": [],
   "source": [
    "from sklearn.metrics import accuracy_score\n",
    "\n",
    "def compute_metrics(pred):\n",
    "  labels = pred.label_ids\n",
    "  preds = pred.predictions.argmax(-1)\n",
    "  # calculate accuracy using sklearn's function\n",
    "  acc = accuracy_score(labels, preds)\n",
    "  return {\n",
    "      'accuracy': acc,\n",
    "  }"
   ]
  },
  {
   "cell_type": "code",
   "execution_count": 36,
   "metadata": {
    "id": "hhf2CnmRROos"
   },
   "outputs": [],
   "source": [
    "training_args = TrainingArguments(\n",
    "    output_dir='./results',          # output directory\n",
    "    num_train_epochs=3,              # total number of training epochs\n",
    "    per_device_train_batch_size=8,  # batch size per device during training\n",
    "    per_device_eval_batch_size=20,   # batch size for evaluation\n",
    "    warmup_steps=500,                # number of warmup steps for learning rate scheduler\n",
    "    weight_decay=0.01,               # strength of weight decay\n",
    "    logging_dir='./logs',            # directory for storing logs\n",
    "    load_best_model_at_end=True,     # load the best model when finished training (default metric is loss)\n",
    "    # but you can specify `metric_for_best_model` argument to change to accuracy or other metric\n",
    "    logging_steps=200,               # log & save weights each logging_steps\n",
    "    save_steps=400,\n",
    "    evaluation_strategy=\"steps\",     # evaluate each `logging_steps`\n",
    ")"
   ]
  },
  {
   "cell_type": "code",
   "execution_count": 37,
   "metadata": {
    "id": "-YdM0eHVRP7A"
   },
   "outputs": [],
   "source": [
    "trainer = Trainer(\n",
    "    model=model,                         # the instantiated Transformers model to be trained\n",
    "    args=training_args,                  # training arguments, defined above\n",
    "    train_dataset=train_dataset,         # training dataset\n",
    "    eval_dataset=valid_dataset,          # evaluation dataset\n",
    "    compute_metrics=compute_metrics,     # the callback that computes metrics of interest\n",
    ")"
   ]
  },
  {
   "cell_type": "code",
   "execution_count": null,
   "metadata": {
    "colab": {
     "base_uri": "https://localhost:8080/",
     "height": 1000
    },
    "id": "pCKSjtAgRSpZ",
    "outputId": "7ffce24b-f46d-46d9-e410-a8b686562f73"
   },
   "outputs": [
    {
     "name": "stderr",
     "output_type": "stream",
     "text": [
      "/Library/Frameworks/Python.framework/Versions/3.10/lib/python3.10/site-packages/transformers/optimization.py:306: FutureWarning: This implementation of AdamW is deprecated and will be removed in a future version. Use the PyTorch implementation torch.optim.AdamW instead, or set `no_deprecation_warning=True` to disable this warning\n",
      "  warnings.warn(\n",
      "***** Running training *****\n",
      "  Num examples = 7081\n",
      "  Num Epochs = 3\n",
      "  Instantaneous batch size per device = 8\n",
      "  Total train batch size (w. parallel, distributed & accumulation) = 8\n",
      "  Gradient Accumulation steps = 1\n",
      "  Total optimization steps = 2658\n",
      "Trainer is attempting to log a value of \"{0: 'LABEL_0', 1: 'LABEL_1', 2: 'LABEL_2', 3: 'LABEL_3', 4: 'LABEL_4', 5: 'LABEL_5', 6: 'LABEL_6', 7: 'LABEL_7', 8: 'LABEL_8', 9: 'LABEL_9', 10: 'LABEL_10', 11: 'LABEL_11', 12: 'LABEL_12', 13: 'LABEL_13', 14: 'LABEL_14', 15: 'LABEL_15', 16: 'LABEL_16', 17: 'LABEL_17', 18: 'LABEL_18', 19: 'LABEL_19', 20: 'LABEL_20', 21: 'LABEL_21', 22: 'LABEL_22', 23: 'LABEL_23', 24: 'LABEL_24', 25: 'LABEL_25', 26: 'LABEL_26', 27: 'LABEL_27', 28: 'LABEL_28', 29: 'LABEL_29', 30: 'LABEL_30', 31: 'LABEL_31', 32: 'LABEL_32', 33: 'LABEL_33', 34: 'LABEL_34', 35: 'LABEL_35', 36: 'LABEL_36', 37: 'LABEL_37', 38: 'LABEL_38', 39: 'LABEL_39', 40: 'LABEL_40', 41: 'LABEL_41', 42: 'LABEL_42', 43: 'LABEL_43', 44: 'LABEL_44', 45: 'LABEL_45', 46: 'LABEL_46', 47: 'LABEL_47', 48: 'LABEL_48', 49: 'LABEL_49', 50: 'LABEL_50', 51: 'LABEL_51', 52: 'LABEL_52', 53: 'LABEL_53', 54: 'LABEL_54', 55: 'LABEL_55', 56: 'LABEL_56', 57: 'LABEL_57', 58: 'LABEL_58', 59: 'LABEL_59', 60: 'LABEL_60', 61: 'LABEL_61', 62: 'LABEL_62', 63: 'LABEL_63', 64: 'LABEL_64', 65: 'LABEL_65', 66: 'LABEL_66', 67: 'LABEL_67', 68: 'LABEL_68', 69: 'LABEL_69', 70: 'LABEL_70', 71: 'LABEL_71', 72: 'LABEL_72', 73: 'LABEL_73', 74: 'LABEL_74', 75: 'LABEL_75', 76: 'LABEL_76', 77: 'LABEL_77', 78: 'LABEL_78', 79: 'LABEL_79', 80: 'LABEL_80', 81: 'LABEL_81', 82: 'LABEL_82', 83: 'LABEL_83', 84: 'LABEL_84', 85: 'LABEL_85', 86: 'LABEL_86', 87: 'LABEL_87', 88: 'LABEL_88', 89: 'LABEL_89', 90: 'LABEL_90', 91: 'LABEL_91', 92: 'LABEL_92', 93: 'LABEL_93', 94: 'LABEL_94', 95: 'LABEL_95', 96: 'LABEL_96', 97: 'LABEL_97', 98: 'LABEL_98', 99: 'LABEL_99', 100: 'LABEL_100', 101: 'LABEL_101', 102: 'LABEL_102', 103: 'LABEL_103', 104: 'LABEL_104', 105: 'LABEL_105', 106: 'LABEL_106', 107: 'LABEL_107', 108: 'LABEL_108', 109: 'LABEL_109', 110: 'LABEL_110', 111: 'LABEL_111', 112: 'LABEL_112', 113: 'LABEL_113', 114: 'LABEL_114', 115: 'LABEL_115', 116: 'LABEL_116', 117: 'LABEL_117', 118: 'LABEL_118', 119: 'LABEL_119', 120: 'LABEL_120', 121: 'LABEL_121', 122: 'LABEL_122', 123: 'LABEL_123', 124: 'LABEL_124', 125: 'LABEL_125', 126: 'LABEL_126', 127: 'LABEL_127', 128: 'LABEL_128', 129: 'LABEL_129', 130: 'LABEL_130', 131: 'LABEL_131', 132: 'LABEL_132', 133: 'LABEL_133', 134: 'LABEL_134', 135: 'LABEL_135', 136: 'LABEL_136', 137: 'LABEL_137', 138: 'LABEL_138', 139: 'LABEL_139', 140: 'LABEL_140', 141: 'LABEL_141', 142: 'LABEL_142', 143: 'LABEL_143', 144: 'LABEL_144', 145: 'LABEL_145', 146: 'LABEL_146', 147: 'LABEL_147', 148: 'LABEL_148', 149: 'LABEL_149', 150: 'LABEL_150', 151: 'LABEL_151', 152: 'LABEL_152', 153: 'LABEL_153', 154: 'LABEL_154', 155: 'LABEL_155', 156: 'LABEL_156', 157: 'LABEL_157', 158: 'LABEL_158', 159: 'LABEL_159', 160: 'LABEL_160', 161: 'LABEL_161', 162: 'LABEL_162', 163: 'LABEL_163', 164: 'LABEL_164', 165: 'LABEL_165', 166: 'LABEL_166', 167: 'LABEL_167', 168: 'LABEL_168', 169: 'LABEL_169', 170: 'LABEL_170', 171: 'LABEL_171', 172: 'LABEL_172', 173: 'LABEL_173', 174: 'LABEL_174', 175: 'LABEL_175', 176: 'LABEL_176', 177: 'LABEL_177', 178: 'LABEL_178', 179: 'LABEL_179', 180: 'LABEL_180', 181: 'LABEL_181', 182: 'LABEL_182', 183: 'LABEL_183', 184: 'LABEL_184', 185: 'LABEL_185', 186: 'LABEL_186', 187: 'LABEL_187', 188: 'LABEL_188', 189: 'LABEL_189', 190: 'LABEL_190', 191: 'LABEL_191', 192: 'LABEL_192', 193: 'LABEL_193', 194: 'LABEL_194', 195: 'LABEL_195', 196: 'LABEL_196', 197: 'LABEL_197', 198: 'LABEL_198', 199: 'LABEL_199', 200: 'LABEL_200', 201: 'LABEL_201', 202: 'LABEL_202', 203: 'LABEL_203', 204: 'LABEL_204', 205: 'LABEL_205', 206: 'LABEL_206', 207: 'LABEL_207', 208: 'LABEL_208', 209: 'LABEL_209', 210: 'LABEL_210', 211: 'LABEL_211', 212: 'LABEL_212', 213: 'LABEL_213', 214: 'LABEL_214', 215: 'LABEL_215', 216: 'LABEL_216', 217: 'LABEL_217', 218: 'LABEL_218', 219: 'LABEL_219', 220: 'LABEL_220', 221: 'LABEL_221', 222: 'LABEL_222', 223: 'LABEL_223', 224: 'LABEL_224', 225: 'LABEL_225', 226: 'LABEL_226', 227: 'LABEL_227', 228: 'LABEL_228', 229: 'LABEL_229', 230: 'LABEL_230', 231: 'LABEL_231', 232: 'LABEL_232', 233: 'LABEL_233', 234: 'LABEL_234', 235: 'LABEL_235', 236: 'LABEL_236', 237: 'LABEL_237', 238: 'LABEL_238', 239: 'LABEL_239', 240: 'LABEL_240', 241: 'LABEL_241', 242: 'LABEL_242', 243: 'LABEL_243', 244: 'LABEL_244', 245: 'LABEL_245', 246: 'LABEL_246', 247: 'LABEL_247', 248: 'LABEL_248', 249: 'LABEL_249', 250: 'LABEL_250', 251: 'LABEL_251', 252: 'LABEL_252', 253: 'LABEL_253', 254: 'LABEL_254', 255: 'LABEL_255', 256: 'LABEL_256', 257: 'LABEL_257', 258: 'LABEL_258', 259: 'LABEL_259', 260: 'LABEL_260', 261: 'LABEL_261', 262: 'LABEL_262', 263: 'LABEL_263', 264: 'LABEL_264', 265: 'LABEL_265', 266: 'LABEL_266', 267: 'LABEL_267'}\" for key \"id2label\" as a parameter. MLflow's log_param() only accepts values no longer than 250 characters so we dropped this attribute. You can use `MLFLOW_FLATTEN_PARAMS` environment variable to flatten the parameters and avoid this message.\n",
      "Trainer is attempting to log a value of \"{'LABEL_0': 0, 'LABEL_1': 1, 'LABEL_2': 2, 'LABEL_3': 3, 'LABEL_4': 4, 'LABEL_5': 5, 'LABEL_6': 6, 'LABEL_7': 7, 'LABEL_8': 8, 'LABEL_9': 9, 'LABEL_10': 10, 'LABEL_11': 11, 'LABEL_12': 12, 'LABEL_13': 13, 'LABEL_14': 14, 'LABEL_15': 15, 'LABEL_16': 16, 'LABEL_17': 17, 'LABEL_18': 18, 'LABEL_19': 19, 'LABEL_20': 20, 'LABEL_21': 21, 'LABEL_22': 22, 'LABEL_23': 23, 'LABEL_24': 24, 'LABEL_25': 25, 'LABEL_26': 26, 'LABEL_27': 27, 'LABEL_28': 28, 'LABEL_29': 29, 'LABEL_30': 30, 'LABEL_31': 31, 'LABEL_32': 32, 'LABEL_33': 33, 'LABEL_34': 34, 'LABEL_35': 35, 'LABEL_36': 36, 'LABEL_37': 37, 'LABEL_38': 38, 'LABEL_39': 39, 'LABEL_40': 40, 'LABEL_41': 41, 'LABEL_42': 42, 'LABEL_43': 43, 'LABEL_44': 44, 'LABEL_45': 45, 'LABEL_46': 46, 'LABEL_47': 47, 'LABEL_48': 48, 'LABEL_49': 49, 'LABEL_50': 50, 'LABEL_51': 51, 'LABEL_52': 52, 'LABEL_53': 53, 'LABEL_54': 54, 'LABEL_55': 55, 'LABEL_56': 56, 'LABEL_57': 57, 'LABEL_58': 58, 'LABEL_59': 59, 'LABEL_60': 60, 'LABEL_61': 61, 'LABEL_62': 62, 'LABEL_63': 63, 'LABEL_64': 64, 'LABEL_65': 65, 'LABEL_66': 66, 'LABEL_67': 67, 'LABEL_68': 68, 'LABEL_69': 69, 'LABEL_70': 70, 'LABEL_71': 71, 'LABEL_72': 72, 'LABEL_73': 73, 'LABEL_74': 74, 'LABEL_75': 75, 'LABEL_76': 76, 'LABEL_77': 77, 'LABEL_78': 78, 'LABEL_79': 79, 'LABEL_80': 80, 'LABEL_81': 81, 'LABEL_82': 82, 'LABEL_83': 83, 'LABEL_84': 84, 'LABEL_85': 85, 'LABEL_86': 86, 'LABEL_87': 87, 'LABEL_88': 88, 'LABEL_89': 89, 'LABEL_90': 90, 'LABEL_91': 91, 'LABEL_92': 92, 'LABEL_93': 93, 'LABEL_94': 94, 'LABEL_95': 95, 'LABEL_96': 96, 'LABEL_97': 97, 'LABEL_98': 98, 'LABEL_99': 99, 'LABEL_100': 100, 'LABEL_101': 101, 'LABEL_102': 102, 'LABEL_103': 103, 'LABEL_104': 104, 'LABEL_105': 105, 'LABEL_106': 106, 'LABEL_107': 107, 'LABEL_108': 108, 'LABEL_109': 109, 'LABEL_110': 110, 'LABEL_111': 111, 'LABEL_112': 112, 'LABEL_113': 113, 'LABEL_114': 114, 'LABEL_115': 115, 'LABEL_116': 116, 'LABEL_117': 117, 'LABEL_118': 118, 'LABEL_119': 119, 'LABEL_120': 120, 'LABEL_121': 121, 'LABEL_122': 122, 'LABEL_123': 123, 'LABEL_124': 124, 'LABEL_125': 125, 'LABEL_126': 126, 'LABEL_127': 127, 'LABEL_128': 128, 'LABEL_129': 129, 'LABEL_130': 130, 'LABEL_131': 131, 'LABEL_132': 132, 'LABEL_133': 133, 'LABEL_134': 134, 'LABEL_135': 135, 'LABEL_136': 136, 'LABEL_137': 137, 'LABEL_138': 138, 'LABEL_139': 139, 'LABEL_140': 140, 'LABEL_141': 141, 'LABEL_142': 142, 'LABEL_143': 143, 'LABEL_144': 144, 'LABEL_145': 145, 'LABEL_146': 146, 'LABEL_147': 147, 'LABEL_148': 148, 'LABEL_149': 149, 'LABEL_150': 150, 'LABEL_151': 151, 'LABEL_152': 152, 'LABEL_153': 153, 'LABEL_154': 154, 'LABEL_155': 155, 'LABEL_156': 156, 'LABEL_157': 157, 'LABEL_158': 158, 'LABEL_159': 159, 'LABEL_160': 160, 'LABEL_161': 161, 'LABEL_162': 162, 'LABEL_163': 163, 'LABEL_164': 164, 'LABEL_165': 165, 'LABEL_166': 166, 'LABEL_167': 167, 'LABEL_168': 168, 'LABEL_169': 169, 'LABEL_170': 170, 'LABEL_171': 171, 'LABEL_172': 172, 'LABEL_173': 173, 'LABEL_174': 174, 'LABEL_175': 175, 'LABEL_176': 176, 'LABEL_177': 177, 'LABEL_178': 178, 'LABEL_179': 179, 'LABEL_180': 180, 'LABEL_181': 181, 'LABEL_182': 182, 'LABEL_183': 183, 'LABEL_184': 184, 'LABEL_185': 185, 'LABEL_186': 186, 'LABEL_187': 187, 'LABEL_188': 188, 'LABEL_189': 189, 'LABEL_190': 190, 'LABEL_191': 191, 'LABEL_192': 192, 'LABEL_193': 193, 'LABEL_194': 194, 'LABEL_195': 195, 'LABEL_196': 196, 'LABEL_197': 197, 'LABEL_198': 198, 'LABEL_199': 199, 'LABEL_200': 200, 'LABEL_201': 201, 'LABEL_202': 202, 'LABEL_203': 203, 'LABEL_204': 204, 'LABEL_205': 205, 'LABEL_206': 206, 'LABEL_207': 207, 'LABEL_208': 208, 'LABEL_209': 209, 'LABEL_210': 210, 'LABEL_211': 211, 'LABEL_212': 212, 'LABEL_213': 213, 'LABEL_214': 214, 'LABEL_215': 215, 'LABEL_216': 216, 'LABEL_217': 217, 'LABEL_218': 218, 'LABEL_219': 219, 'LABEL_220': 220, 'LABEL_221': 221, 'LABEL_222': 222, 'LABEL_223': 223, 'LABEL_224': 224, 'LABEL_225': 225, 'LABEL_226': 226, 'LABEL_227': 227, 'LABEL_228': 228, 'LABEL_229': 229, 'LABEL_230': 230, 'LABEL_231': 231, 'LABEL_232': 232, 'LABEL_233': 233, 'LABEL_234': 234, 'LABEL_235': 235, 'LABEL_236': 236, 'LABEL_237': 237, 'LABEL_238': 238, 'LABEL_239': 239, 'LABEL_240': 240, 'LABEL_241': 241, 'LABEL_242': 242, 'LABEL_243': 243, 'LABEL_244': 244, 'LABEL_245': 245, 'LABEL_246': 246, 'LABEL_247': 247, 'LABEL_248': 248, 'LABEL_249': 249, 'LABEL_250': 250, 'LABEL_251': 251, 'LABEL_252': 252, 'LABEL_253': 253, 'LABEL_254': 254, 'LABEL_255': 255, 'LABEL_256': 256, 'LABEL_257': 257, 'LABEL_258': 258, 'LABEL_259': 259, 'LABEL_260': 260, 'LABEL_261': 261, 'LABEL_262': 262, 'LABEL_263': 263, 'LABEL_264': 264, 'LABEL_265': 265, 'LABEL_266': 266, 'LABEL_267': 267}\" for key \"label2id\" as a parameter. MLflow's log_param() only accepts values no longer than 250 characters so we dropped this attribute. You can use `MLFLOW_FLATTEN_PARAMS` environment variable to flatten the parameters and avoid this message.\n"
     ]
    },
    {
     "name": "stdout",
     "output_type": "stream",
     "text": [
      "huggingface/tokenizers: The current process just got forked, after parallelism has already been used. Disabling parallelism to avoid deadlocks...\n",
      "To disable this warning, you can either:\n",
      "\t- Avoid using `tokenizers` before the fork if possible\n",
      "\t- Explicitly set the environment variable TOKENIZERS_PARALLELISM=(true | false)\n",
      "huggingface/tokenizers: The current process just got forked, after parallelism has already been used. Disabling parallelism to avoid deadlocks...\n",
      "To disable this warning, you can either:\n",
      "\t- Avoid using `tokenizers` before the fork if possible\n",
      "\t- Explicitly set the environment variable TOKENIZERS_PARALLELISM=(true | false)\n",
      "huggingface/tokenizers: The current process just got forked, after parallelism has already been used. Disabling parallelism to avoid deadlocks...\n",
      "To disable this warning, you can either:\n",
      "\t- Avoid using `tokenizers` before the fork if possible\n",
      "\t- Explicitly set the environment variable TOKENIZERS_PARALLELISM=(true | false)\n"
     ]
    },
    {
     "data": {
      "text/html": [
       "\n",
       "    <div>\n",
       "      \n",
       "      <progress value='35' max='2658' style='width:300px; height:20px; vertical-align: middle;'></progress>\n",
       "      [  35/2658 06:11 < 8:12:33, 0.09 it/s, Epoch 0.04/3]\n",
       "    </div>\n",
       "    <table border=\"1\" class=\"dataframe\">\n",
       "  <thead>\n",
       " <tr style=\"text-align: left;\">\n",
       "      <th>Step</th>\n",
       "      <th>Training Loss</th>\n",
       "      <th>Validation Loss</th>\n",
       "    </tr>\n",
       "  </thead>\n",
       "  <tbody>\n",
       "  </tbody>\n",
       "</table><p>"
      ],
      "text/plain": [
       "<IPython.core.display.HTML object>"
      ]
     },
     "metadata": {},
     "output_type": "display_data"
    }
   ],
   "source": [
    "%%time\n",
    "\n",
    "# train the model\n",
    "\n",
    "trainer.train()"
   ]
  },
  {
   "cell_type": "code",
   "execution_count": null,
   "metadata": {
    "colab": {
     "base_uri": "https://localhost:8080/",
     "height": 193
    },
    "id": "4JsnHCnAipMJ",
    "outputId": "4f6cd9f9-4837-4b81-e862-8e1cffc79c4c"
   },
   "outputs": [],
   "source": [
    "%%time\n",
    "trainer.evaluate()"
   ]
  },
  {
   "cell_type": "code",
   "execution_count": null,
   "metadata": {
    "colab": {
     "base_uri": "https://localhost:8080/"
    },
    "id": "YeI0RKhKr-Sv",
    "outputId": "d528529a-c82e-4af4-8be0-c1d5c96c753c"
   },
   "outputs": [],
   "source": [
    "# saving the fine tuned model & tokenizer\n",
    "model_path = \"wine-bert-base-uncased\"\n",
    "model.save_pretrained(model_path)\n",
    "tokenizer.save_pretrained(model_path)"
   ]
  },
  {
   "cell_type": "code",
   "execution_count": null,
   "metadata": {
    "id": "rVUkMNHQr-9p"
   },
   "outputs": [],
   "source": [
    "def get_prediction(text, convert_to_label=False):\n",
    "    # prepare our text into tokenized sequence\n",
    "    inputs = tokenizer(text, padding=True, truncation=True, max_length=max_length, return_tensors=\"pt\").to(\"cuda\")\n",
    "    # perform inference to our model\n",
    "    outputs = model(**inputs)\n",
    "    # get output probabilities by doing softmax\n",
    "    probs = outputs[0].softmax(1)\n",
    "    # executing argmax function to get the candidate label\n",
    "    d = {v: k for v, k in enumerate(data_df.variety)}\n",
    "    if convert_to_label:\n",
    "      return d[int(probs.argmax())]\n",
    "    else:\n",
    "      return int(probs.argmax())"
   ]
  },
  {
   "cell_type": "code",
   "execution_count": null,
   "metadata": {
    "id": "SJ9h-ApRsC8x"
   },
   "outputs": [],
   "source": [
    "input1a = \"\"\"I would like a type of wine that really wows. something perhaps to drink beside my best girlfriends on the beach somewhere. something that's new and exciting.\"\"\""
   ]
  },
  {
   "cell_type": "code",
   "execution_count": null,
   "metadata": {
    "colab": {
     "base_uri": "https://localhost:8080/",
     "height": 36
    },
    "id": "MQWEjySNsPkc",
    "outputId": "de2d6539-d60c-4de6-d70a-955dfd406c0a"
   },
   "outputs": [],
   "source": [
    "get_prediction(input1a, convert_to_label=True)"
   ]
  },
  {
   "cell_type": "code",
   "execution_count": null,
   "metadata": {
    "id": "u4TTY366Qr4x"
   },
   "outputs": [],
   "source": [
    "input1b = \"\"\"Eu gostaria de um tipo de vinho que realmente impressionasse. algo talvez para beber ao lado de minhas melhores amigas na praia em algum lugar. algo que é novo e excitante.\"\"\" "
   ]
  },
  {
   "cell_type": "code",
   "execution_count": null,
   "metadata": {
    "colab": {
     "base_uri": "https://localhost:8080/",
     "height": 36
    },
    "id": "9l6z6lIfQtl2",
    "outputId": "f563b43c-b083-46e1-ed9b-de7fdde17863"
   },
   "outputs": [],
   "source": [
    "get_prediction(input1b, convert_to_label=True)"
   ]
  },
  {
   "cell_type": "code",
   "execution_count": null,
   "metadata": {
    "id": "uy1NQbUitZ8t"
   },
   "outputs": [],
   "source": [
    "input2a = \"\"\"\n",
    "i want a red to go with my salmon. I like my salmon cooked medium and I like white wines normally but I hear reds are full of antioxidents.\n",
    "\"\"\""
   ]
  },
  {
   "cell_type": "code",
   "execution_count": null,
   "metadata": {
    "colab": {
     "base_uri": "https://localhost:8080/",
     "height": 36
    },
    "id": "rxKcTpHDtnYJ",
    "outputId": "ee69923a-8c5d-4cf2-a404-4dd38e1a5b70"
   },
   "outputs": [],
   "source": [
    "get_prediction(input2a, convert_to_label=True)"
   ]
  },
  {
   "cell_type": "code",
   "execution_count": null,
   "metadata": {
    "id": "vv0op0z8Rwfe"
   },
   "outputs": [],
   "source": [
    "input2b = \"\"\"\n",
    "eu quero um vermelho para ir com o meu salmão. Eu gosto do meu salmão médio e gosto de vinhos brancos normalmente, mas ouvi dizer que os tintos são cheios de antioxidantes.\n",
    "\"\"\""
   ]
  },
  {
   "cell_type": "code",
   "execution_count": null,
   "metadata": {
    "colab": {
     "base_uri": "https://localhost:8080/",
     "height": 36
    },
    "id": "ktVAlnDkRzWH",
    "outputId": "8de975b2-aafb-466b-f2a0-2767379ef26c"
   },
   "outputs": [],
   "source": [
    "get_prediction(input2b, convert_to_label=True)"
   ]
  },
  {
   "cell_type": "code",
   "execution_count": null,
   "metadata": {
    "id": "kjQX9W9EtqGv"
   },
   "outputs": [],
   "source": [
    "input3a = \"\"\"\n",
    "tickles the nose\n",
    "\"\"\""
   ]
  },
  {
   "cell_type": "code",
   "execution_count": null,
   "metadata": {
    "colab": {
     "base_uri": "https://localhost:8080/",
     "height": 36
    },
    "id": "BXoC2DkmtoAd",
    "outputId": "350e864a-4014-4d85-f774-f770445e8e62"
   },
   "outputs": [],
   "source": [
    "get_prediction(input3a, convert_to_label=True)"
   ]
  },
  {
   "cell_type": "code",
   "execution_count": null,
   "metadata": {
    "id": "LNmRz5-7R4Uh"
   },
   "outputs": [],
   "source": [
    "input3b = \"\"\"\n",
    "faz cócegas no nariz\n",
    "\"\"\""
   ]
  },
  {
   "cell_type": "code",
   "execution_count": null,
   "metadata": {
    "colab": {
     "base_uri": "https://localhost:8080/",
     "height": 36
    },
    "id": "fsvA3ZwPR4wc",
    "outputId": "9545c1a4-955a-4f3c-8502-243b85ff1062"
   },
   "outputs": [],
   "source": [
    "get_prediction(input3b, convert_to_label=True)"
   ]
  },
  {
   "cell_type": "code",
   "execution_count": null,
   "metadata": {
    "id": "jl4buWMLtocB"
   },
   "outputs": [],
   "source": [
    "input4a = \"\"\"\n",
    "I want the driest white wine available. the most dry you can think of. bone-dry.\n",
    "\"\"\""
   ]
  },
  {
   "cell_type": "code",
   "execution_count": null,
   "metadata": {
    "colab": {
     "base_uri": "https://localhost:8080/",
     "height": 36
    },
    "id": "SP1WkYIdtu_W",
    "outputId": "0416309c-3ff7-4512-8f17-9191d6865be8"
   },
   "outputs": [],
   "source": [
    "get_prediction(input4a, convert_to_label=True)"
   ]
  },
  {
   "cell_type": "code",
   "execution_count": null,
   "metadata": {
    "id": "7g0fI0veR_2A"
   },
   "outputs": [],
   "source": [
    "input4b = \"\"\"\n",
    "Quero o vinho branco mais seco disponível. o mais seco que você pode pensar. Osso seco.\n",
    "\"\"\""
   ]
  },
  {
   "cell_type": "code",
   "execution_count": null,
   "metadata": {
    "colab": {
     "base_uri": "https://localhost:8080/",
     "height": 36
    },
    "id": "K-9WzCm2SAMr",
    "outputId": "4351cd99-01bf-4f8a-ec12-0ac1b8a55d93"
   },
   "outputs": [],
   "source": [
    "get_prediction(input4b, convert_to_label=True)"
   ]
  },
  {
   "cell_type": "code",
   "execution_count": null,
   "metadata": {
    "id": "yjn-Lrczt8LE"
   },
   "outputs": [],
   "source": [
    "input5a = \"\"\"\n",
    "I want a red. no wait I want a white. I think I want rose. on second thought, give me a bourbon. no, no. my favorite wine is a white. I'll do a white?\n",
    "\"\"\""
   ]
  },
  {
   "cell_type": "code",
   "execution_count": null,
   "metadata": {
    "colab": {
     "base_uri": "https://localhost:8080/",
     "height": 36
    },
    "id": "Lmur6HJrtvzg",
    "outputId": "0fd7fe0d-0c2c-40b8-c324-b27e95c5294b"
   },
   "outputs": [],
   "source": [
    "get_prediction(input5a, convert_to_label=True)"
   ]
  },
  {
   "cell_type": "code",
   "execution_count": null,
   "metadata": {
    "id": "_hoO6rsMunJ8"
   },
   "outputs": [],
   "source": [
    "input5a = \"\"\"\n",
    "Eu quero um vermelho. não espere, eu quero um branco. Acho que quero rosa. pensando bem, me dê um bourbon. não não. meu vinho favorito é um branco. Eu vou fazer um branco?\n",
    "\"\"\""
   ]
  },
  {
   "cell_type": "code",
   "execution_count": null,
   "metadata": {
    "colab": {
     "base_uri": "https://localhost:8080/",
     "height": 36
    },
    "id": "9KH6KjAKSIaa",
    "outputId": "b247c970-41f7-4dc0-dfc3-397e10069126"
   },
   "outputs": [],
   "source": [
    "get_prediction(input5a, convert_to_label=True)"
   ]
  },
  {
   "cell_type": "code",
   "execution_count": null,
   "metadata": {
    "id": "Xc1y1w0kV9GN"
   },
   "outputs": [],
   "source": []
  }
 ],
 "metadata": {
  "accelerator": "GPU",
  "colab": {
   "collapsed_sections": [],
   "name": "bert_shenanigans.ipynb",
   "provenance": [],
   "toc_visible": true
  },
  "gpuClass": "standard",
  "kernelspec": {
   "display_name": "bert-experiments",
   "language": "python",
   "name": "bert-experiments"
  },
  "language_info": {
   "codemirror_mode": {
    "name": "ipython",
    "version": 3
   },
   "file_extension": ".py",
   "mimetype": "text/x-python",
   "name": "python",
   "nbconvert_exporter": "python",
   "pygments_lexer": "ipython3",
   "version": "3.10.0"
  },
  "widgets": {
   "application/vnd.jupyter.widget-state+json": {
    "0130a001e0294b879985f54bad456713": {
     "model_module": "@jupyter-widgets/controls",
     "model_module_version": "1.5.0",
     "model_name": "DescriptionStyleModel",
     "state": {
      "_model_module": "@jupyter-widgets/controls",
      "_model_module_version": "1.5.0",
      "_model_name": "DescriptionStyleModel",
      "_view_count": null,
      "_view_module": "@jupyter-widgets/base",
      "_view_module_version": "1.2.0",
      "_view_name": "StyleView",
      "description_width": ""
     }
    },
    "0d87ac4051b44441bd89bab2ebeb662a": {
     "model_module": "@jupyter-widgets/base",
     "model_module_version": "1.2.0",
     "model_name": "LayoutModel",
     "state": {
      "_model_module": "@jupyter-widgets/base",
      "_model_module_version": "1.2.0",
      "_model_name": "LayoutModel",
      "_view_count": null,
      "_view_module": "@jupyter-widgets/base",
      "_view_module_version": "1.2.0",
      "_view_name": "LayoutView",
      "align_content": null,
      "align_items": null,
      "align_self": null,
      "border": null,
      "bottom": null,
      "display": null,
      "flex": null,
      "flex_flow": null,
      "grid_area": null,
      "grid_auto_columns": null,
      "grid_auto_flow": null,
      "grid_auto_rows": null,
      "grid_column": null,
      "grid_gap": null,
      "grid_row": null,
      "grid_template_areas": null,
      "grid_template_columns": null,
      "grid_template_rows": null,
      "height": null,
      "justify_content": null,
      "justify_items": null,
      "left": null,
      "margin": null,
      "max_height": null,
      "max_width": null,
      "min_height": null,
      "min_width": null,
      "object_fit": null,
      "object_position": null,
      "order": null,
      "overflow": null,
      "overflow_x": null,
      "overflow_y": null,
      "padding": null,
      "right": null,
      "top": null,
      "visibility": null,
      "width": null
     }
    },
    "109cbbc9441a4674aaf84c45ce338251": {
     "model_module": "@jupyter-widgets/controls",
     "model_module_version": "1.5.0",
     "model_name": "HBoxModel",
     "state": {
      "_dom_classes": [],
      "_model_module": "@jupyter-widgets/controls",
      "_model_module_version": "1.5.0",
      "_model_name": "HBoxModel",
      "_view_count": null,
      "_view_module": "@jupyter-widgets/controls",
      "_view_module_version": "1.5.0",
      "_view_name": "HBoxView",
      "box_style": "",
      "children": [
       "IPY_MODEL_c8abf55d114c4acebbf5b13ec52c9d01",
       "IPY_MODEL_ac22ef974f424afe8a61cac41913d3a0",
       "IPY_MODEL_625aeb44dd024637b1489fd77151892d"
      ],
      "layout": "IPY_MODEL_c45fc09e787b4755958a392e8d4296b4"
     }
    },
    "116a45ac17e645b696b8e345a282ec37": {
     "model_module": "@jupyter-widgets/controls",
     "model_module_version": "1.5.0",
     "model_name": "ProgressStyleModel",
     "state": {
      "_model_module": "@jupyter-widgets/controls",
      "_model_module_version": "1.5.0",
      "_model_name": "ProgressStyleModel",
      "_view_count": null,
      "_view_module": "@jupyter-widgets/base",
      "_view_module_version": "1.2.0",
      "_view_name": "StyleView",
      "bar_color": null,
      "description_width": ""
     }
    },
    "12ba91253abc4faaa18e61030b4742fe": {
     "model_module": "@jupyter-widgets/controls",
     "model_module_version": "1.5.0",
     "model_name": "HTMLModel",
     "state": {
      "_dom_classes": [],
      "_model_module": "@jupyter-widgets/controls",
      "_model_module_version": "1.5.0",
      "_model_name": "HTMLModel",
      "_view_count": null,
      "_view_module": "@jupyter-widgets/controls",
      "_view_module_version": "1.5.0",
      "_view_name": "HTMLView",
      "description": "",
      "description_tooltip": null,
      "layout": "IPY_MODEL_939ab8309a0245af9af475fa5ab59a17",
      "placeholder": "​",
      "style": "IPY_MODEL_0130a001e0294b879985f54bad456713",
      "value": " 418M/418M [00:10&lt;00:00, 50.7MB/s]"
     }
    },
    "164e73cf6bda4b4aa8f11ba75eea3a50": {
     "model_module": "@jupyter-widgets/controls",
     "model_module_version": "1.5.0",
     "model_name": "HTMLModel",
     "state": {
      "_dom_classes": [],
      "_model_module": "@jupyter-widgets/controls",
      "_model_module_version": "1.5.0",
      "_model_name": "HTMLModel",
      "_view_count": null,
      "_view_module": "@jupyter-widgets/controls",
      "_view_module_version": "1.5.0",
      "_view_name": "HTMLView",
      "description": "",
      "description_tooltip": null,
      "layout": "IPY_MODEL_5144586cb8ec40878f56e8b55aa573dd",
      "placeholder": "​",
      "style": "IPY_MODEL_a6910c39d2d24c9f9515571db544f3c4",
      "value": "Downloading pytorch_model.bin: 100%"
     }
    },
    "17f08c7a965c4fd2bc65ea6a1750ecc9": {
     "model_module": "@jupyter-widgets/controls",
     "model_module_version": "1.5.0",
     "model_name": "DescriptionStyleModel",
     "state": {
      "_model_module": "@jupyter-widgets/controls",
      "_model_module_version": "1.5.0",
      "_model_name": "DescriptionStyleModel",
      "_view_count": null,
      "_view_module": "@jupyter-widgets/base",
      "_view_module_version": "1.2.0",
      "_view_name": "StyleView",
      "description_width": ""
     }
    },
    "1db2e19f3da4460dad502a1c07863c7f": {
     "model_module": "@jupyter-widgets/controls",
     "model_module_version": "1.5.0",
     "model_name": "DescriptionStyleModel",
     "state": {
      "_model_module": "@jupyter-widgets/controls",
      "_model_module_version": "1.5.0",
      "_model_name": "DescriptionStyleModel",
      "_view_count": null,
      "_view_module": "@jupyter-widgets/base",
      "_view_module_version": "1.2.0",
      "_view_name": "StyleView",
      "description_width": ""
     }
    },
    "203772b00ad8462e857d1b9c3ac67cab": {
     "model_module": "@jupyter-widgets/base",
     "model_module_version": "1.2.0",
     "model_name": "LayoutModel",
     "state": {
      "_model_module": "@jupyter-widgets/base",
      "_model_module_version": "1.2.0",
      "_model_name": "LayoutModel",
      "_view_count": null,
      "_view_module": "@jupyter-widgets/base",
      "_view_module_version": "1.2.0",
      "_view_name": "LayoutView",
      "align_content": null,
      "align_items": null,
      "align_self": null,
      "border": null,
      "bottom": null,
      "display": null,
      "flex": null,
      "flex_flow": null,
      "grid_area": null,
      "grid_auto_columns": null,
      "grid_auto_flow": null,
      "grid_auto_rows": null,
      "grid_column": null,
      "grid_gap": null,
      "grid_row": null,
      "grid_template_areas": null,
      "grid_template_columns": null,
      "grid_template_rows": null,
      "height": null,
      "justify_content": null,
      "justify_items": null,
      "left": null,
      "margin": null,
      "max_height": null,
      "max_width": null,
      "min_height": null,
      "min_width": null,
      "object_fit": null,
      "object_position": null,
      "order": null,
      "overflow": null,
      "overflow_x": null,
      "overflow_y": null,
      "padding": null,
      "right": null,
      "top": null,
      "visibility": null,
      "width": null
     }
    },
    "29a502fe103947f3818351baad6bb360": {
     "model_module": "@jupyter-widgets/controls",
     "model_module_version": "1.5.0",
     "model_name": "ProgressStyleModel",
     "state": {
      "_model_module": "@jupyter-widgets/controls",
      "_model_module_version": "1.5.0",
      "_model_name": "ProgressStyleModel",
      "_view_count": null,
      "_view_module": "@jupyter-widgets/base",
      "_view_module_version": "1.2.0",
      "_view_name": "StyleView",
      "bar_color": null,
      "description_width": ""
     }
    },
    "34ab8bc3e6004aa88d8151a5dbde908b": {
     "model_module": "@jupyter-widgets/base",
     "model_module_version": "1.2.0",
     "model_name": "LayoutModel",
     "state": {
      "_model_module": "@jupyter-widgets/base",
      "_model_module_version": "1.2.0",
      "_model_name": "LayoutModel",
      "_view_count": null,
      "_view_module": "@jupyter-widgets/base",
      "_view_module_version": "1.2.0",
      "_view_name": "LayoutView",
      "align_content": null,
      "align_items": null,
      "align_self": null,
      "border": null,
      "bottom": null,
      "display": null,
      "flex": null,
      "flex_flow": null,
      "grid_area": null,
      "grid_auto_columns": null,
      "grid_auto_flow": null,
      "grid_auto_rows": null,
      "grid_column": null,
      "grid_gap": null,
      "grid_row": null,
      "grid_template_areas": null,
      "grid_template_columns": null,
      "grid_template_rows": null,
      "height": null,
      "justify_content": null,
      "justify_items": null,
      "left": null,
      "margin": null,
      "max_height": null,
      "max_width": null,
      "min_height": null,
      "min_width": null,
      "object_fit": null,
      "object_position": null,
      "order": null,
      "overflow": null,
      "overflow_x": null,
      "overflow_y": null,
      "padding": null,
      "right": null,
      "top": null,
      "visibility": null,
      "width": null
     }
    },
    "3c77dadd5cd54d1b993d2e5b6267a806": {
     "model_module": "@jupyter-widgets/base",
     "model_module_version": "1.2.0",
     "model_name": "LayoutModel",
     "state": {
      "_model_module": "@jupyter-widgets/base",
      "_model_module_version": "1.2.0",
      "_model_name": "LayoutModel",
      "_view_count": null,
      "_view_module": "@jupyter-widgets/base",
      "_view_module_version": "1.2.0",
      "_view_name": "LayoutView",
      "align_content": null,
      "align_items": null,
      "align_self": null,
      "border": null,
      "bottom": null,
      "display": null,
      "flex": null,
      "flex_flow": null,
      "grid_area": null,
      "grid_auto_columns": null,
      "grid_auto_flow": null,
      "grid_auto_rows": null,
      "grid_column": null,
      "grid_gap": null,
      "grid_row": null,
      "grid_template_areas": null,
      "grid_template_columns": null,
      "grid_template_rows": null,
      "height": null,
      "justify_content": null,
      "justify_items": null,
      "left": null,
      "margin": null,
      "max_height": null,
      "max_width": null,
      "min_height": null,
      "min_width": null,
      "object_fit": null,
      "object_position": null,
      "order": null,
      "overflow": null,
      "overflow_x": null,
      "overflow_y": null,
      "padding": null,
      "right": null,
      "top": null,
      "visibility": null,
      "width": null
     }
    },
    "3d1554e0518c4eda842b4712df5cd6f9": {
     "model_module": "@jupyter-widgets/controls",
     "model_module_version": "1.5.0",
     "model_name": "FloatProgressModel",
     "state": {
      "_dom_classes": [],
      "_model_module": "@jupyter-widgets/controls",
      "_model_module_version": "1.5.0",
      "_model_name": "FloatProgressModel",
      "_view_count": null,
      "_view_module": "@jupyter-widgets/controls",
      "_view_module_version": "1.5.0",
      "_view_name": "ProgressView",
      "bar_style": "success",
      "description": "",
      "description_tooltip": null,
      "layout": "IPY_MODEL_eac58d80884b4a04a9847ac5b53a7cfa",
      "max": 2,
      "min": 0,
      "orientation": "horizontal",
      "style": "IPY_MODEL_116a45ac17e645b696b8e345a282ec37",
      "value": 2
     }
    },
    "3e9fce474f7d430891a7bbe4c641c785": {
     "model_module": "@jupyter-widgets/controls",
     "model_module_version": "1.5.0",
     "model_name": "HTMLModel",
     "state": {
      "_dom_classes": [],
      "_model_module": "@jupyter-widgets/controls",
      "_model_module_version": "1.5.0",
      "_model_name": "HTMLModel",
      "_view_count": null,
      "_view_module": "@jupyter-widgets/controls",
      "_view_module_version": "1.5.0",
      "_view_name": "HTMLView",
      "description": "",
      "description_tooltip": null,
      "layout": "IPY_MODEL_d97ed9fdce1a45f2900f685c93e9fa3f",
      "placeholder": "​",
      "style": "IPY_MODEL_1db2e19f3da4460dad502a1c07863c7f",
      "value": "Downloading special_tokens_map.json: 100%"
     }
    },
    "3eb01677410c4aa89c1ddec5afaa31ba": {
     "model_module": "@jupyter-widgets/controls",
     "model_module_version": "1.5.0",
     "model_name": "HTMLModel",
     "state": {
      "_dom_classes": [],
      "_model_module": "@jupyter-widgets/controls",
      "_model_module_version": "1.5.0",
      "_model_name": "HTMLModel",
      "_view_count": null,
      "_view_module": "@jupyter-widgets/controls",
      "_view_module_version": "1.5.0",
      "_view_name": "HTMLView",
      "description": "",
      "description_tooltip": null,
      "layout": "IPY_MODEL_34ab8bc3e6004aa88d8151a5dbde908b",
      "placeholder": "​",
      "style": "IPY_MODEL_94cf3e9047c1436eb501d856de72831c",
      "value": "Downloading added_tokens.json: 100%"
     }
    },
    "3ff74c51bace4a6e9bf806718c5accca": {
     "model_module": "@jupyter-widgets/controls",
     "model_module_version": "1.5.0",
     "model_name": "ProgressStyleModel",
     "state": {
      "_model_module": "@jupyter-widgets/controls",
      "_model_module_version": "1.5.0",
      "_model_name": "ProgressStyleModel",
      "_view_count": null,
      "_view_module": "@jupyter-widgets/base",
      "_view_module_version": "1.2.0",
      "_view_name": "StyleView",
      "bar_color": null,
      "description_width": ""
     }
    },
    "5144586cb8ec40878f56e8b55aa573dd": {
     "model_module": "@jupyter-widgets/base",
     "model_module_version": "1.2.0",
     "model_name": "LayoutModel",
     "state": {
      "_model_module": "@jupyter-widgets/base",
      "_model_module_version": "1.2.0",
      "_model_name": "LayoutModel",
      "_view_count": null,
      "_view_module": "@jupyter-widgets/base",
      "_view_module_version": "1.2.0",
      "_view_name": "LayoutView",
      "align_content": null,
      "align_items": null,
      "align_self": null,
      "border": null,
      "bottom": null,
      "display": null,
      "flex": null,
      "flex_flow": null,
      "grid_area": null,
      "grid_auto_columns": null,
      "grid_auto_flow": null,
      "grid_auto_rows": null,
      "grid_column": null,
      "grid_gap": null,
      "grid_row": null,
      "grid_template_areas": null,
      "grid_template_columns": null,
      "grid_template_rows": null,
      "height": null,
      "justify_content": null,
      "justify_items": null,
      "left": null,
      "margin": null,
      "max_height": null,
      "max_width": null,
      "min_height": null,
      "min_width": null,
      "object_fit": null,
      "object_position": null,
      "order": null,
      "overflow": null,
      "overflow_x": null,
      "overflow_y": null,
      "padding": null,
      "right": null,
      "top": null,
      "visibility": null,
      "width": null
     }
    },
    "5196990fa2c24141b216dde2da734e3d": {
     "model_module": "@jupyter-widgets/controls",
     "model_module_version": "1.5.0",
     "model_name": "DescriptionStyleModel",
     "state": {
      "_model_module": "@jupyter-widgets/controls",
      "_model_module_version": "1.5.0",
      "_model_name": "DescriptionStyleModel",
      "_view_count": null,
      "_view_module": "@jupyter-widgets/base",
      "_view_module_version": "1.2.0",
      "_view_name": "StyleView",
      "description_width": ""
     }
    },
    "5440166aac734b1e90ba5d81b2d02dc1": {
     "model_module": "@jupyter-widgets/base",
     "model_module_version": "1.2.0",
     "model_name": "LayoutModel",
     "state": {
      "_model_module": "@jupyter-widgets/base",
      "_model_module_version": "1.2.0",
      "_model_name": "LayoutModel",
      "_view_count": null,
      "_view_module": "@jupyter-widgets/base",
      "_view_module_version": "1.2.0",
      "_view_name": "LayoutView",
      "align_content": null,
      "align_items": null,
      "align_self": null,
      "border": null,
      "bottom": null,
      "display": null,
      "flex": null,
      "flex_flow": null,
      "grid_area": null,
      "grid_auto_columns": null,
      "grid_auto_flow": null,
      "grid_auto_rows": null,
      "grid_column": null,
      "grid_gap": null,
      "grid_row": null,
      "grid_template_areas": null,
      "grid_template_columns": null,
      "grid_template_rows": null,
      "height": null,
      "justify_content": null,
      "justify_items": null,
      "left": null,
      "margin": null,
      "max_height": null,
      "max_width": null,
      "min_height": null,
      "min_width": null,
      "object_fit": null,
      "object_position": null,
      "order": null,
      "overflow": null,
      "overflow_x": null,
      "overflow_y": null,
      "padding": null,
      "right": null,
      "top": null,
      "visibility": null,
      "width": null
     }
    },
    "56083c6aacde471288ba1036012ebe6c": {
     "model_module": "@jupyter-widgets/base",
     "model_module_version": "1.2.0",
     "model_name": "LayoutModel",
     "state": {
      "_model_module": "@jupyter-widgets/base",
      "_model_module_version": "1.2.0",
      "_model_name": "LayoutModel",
      "_view_count": null,
      "_view_module": "@jupyter-widgets/base",
      "_view_module_version": "1.2.0",
      "_view_name": "LayoutView",
      "align_content": null,
      "align_items": null,
      "align_self": null,
      "border": null,
      "bottom": null,
      "display": null,
      "flex": null,
      "flex_flow": null,
      "grid_area": null,
      "grid_auto_columns": null,
      "grid_auto_flow": null,
      "grid_auto_rows": null,
      "grid_column": null,
      "grid_gap": null,
      "grid_row": null,
      "grid_template_areas": null,
      "grid_template_columns": null,
      "grid_template_rows": null,
      "height": null,
      "justify_content": null,
      "justify_items": null,
      "left": null,
      "margin": null,
      "max_height": null,
      "max_width": null,
      "min_height": null,
      "min_width": null,
      "object_fit": null,
      "object_position": null,
      "order": null,
      "overflow": null,
      "overflow_x": null,
      "overflow_y": null,
      "padding": null,
      "right": null,
      "top": null,
      "visibility": null,
      "width": null
     }
    },
    "5b3b3b424c8e4bbf887db5c8838d52d2": {
     "model_module": "@jupyter-widgets/base",
     "model_module_version": "1.2.0",
     "model_name": "LayoutModel",
     "state": {
      "_model_module": "@jupyter-widgets/base",
      "_model_module_version": "1.2.0",
      "_model_name": "LayoutModel",
      "_view_count": null,
      "_view_module": "@jupyter-widgets/base",
      "_view_module_version": "1.2.0",
      "_view_name": "LayoutView",
      "align_content": null,
      "align_items": null,
      "align_self": null,
      "border": null,
      "bottom": null,
      "display": null,
      "flex": null,
      "flex_flow": null,
      "grid_area": null,
      "grid_auto_columns": null,
      "grid_auto_flow": null,
      "grid_auto_rows": null,
      "grid_column": null,
      "grid_gap": null,
      "grid_row": null,
      "grid_template_areas": null,
      "grid_template_columns": null,
      "grid_template_rows": null,
      "height": null,
      "justify_content": null,
      "justify_items": null,
      "left": null,
      "margin": null,
      "max_height": null,
      "max_width": null,
      "min_height": null,
      "min_width": null,
      "object_fit": null,
      "object_position": null,
      "order": null,
      "overflow": null,
      "overflow_x": null,
      "overflow_y": null,
      "padding": null,
      "right": null,
      "top": null,
      "visibility": null,
      "width": null
     }
    },
    "60745b695edd441c88b298d1ed19be16": {
     "model_module": "@jupyter-widgets/base",
     "model_module_version": "1.2.0",
     "model_name": "LayoutModel",
     "state": {
      "_model_module": "@jupyter-widgets/base",
      "_model_module_version": "1.2.0",
      "_model_name": "LayoutModel",
      "_view_count": null,
      "_view_module": "@jupyter-widgets/base",
      "_view_module_version": "1.2.0",
      "_view_name": "LayoutView",
      "align_content": null,
      "align_items": null,
      "align_self": null,
      "border": null,
      "bottom": null,
      "display": null,
      "flex": null,
      "flex_flow": null,
      "grid_area": null,
      "grid_auto_columns": null,
      "grid_auto_flow": null,
      "grid_auto_rows": null,
      "grid_column": null,
      "grid_gap": null,
      "grid_row": null,
      "grid_template_areas": null,
      "grid_template_columns": null,
      "grid_template_rows": null,
      "height": null,
      "justify_content": null,
      "justify_items": null,
      "left": null,
      "margin": null,
      "max_height": null,
      "max_width": null,
      "min_height": null,
      "min_width": null,
      "object_fit": null,
      "object_position": null,
      "order": null,
      "overflow": null,
      "overflow_x": null,
      "overflow_y": null,
      "padding": null,
      "right": null,
      "top": null,
      "visibility": null,
      "width": null
     }
    },
    "6131280eba0c4b16998e63479e3a5879": {
     "model_module": "@jupyter-widgets/base",
     "model_module_version": "1.2.0",
     "model_name": "LayoutModel",
     "state": {
      "_model_module": "@jupyter-widgets/base",
      "_model_module_version": "1.2.0",
      "_model_name": "LayoutModel",
      "_view_count": null,
      "_view_module": "@jupyter-widgets/base",
      "_view_module_version": "1.2.0",
      "_view_name": "LayoutView",
      "align_content": null,
      "align_items": null,
      "align_self": null,
      "border": null,
      "bottom": null,
      "display": null,
      "flex": null,
      "flex_flow": null,
      "grid_area": null,
      "grid_auto_columns": null,
      "grid_auto_flow": null,
      "grid_auto_rows": null,
      "grid_column": null,
      "grid_gap": null,
      "grid_row": null,
      "grid_template_areas": null,
      "grid_template_columns": null,
      "grid_template_rows": null,
      "height": null,
      "justify_content": null,
      "justify_items": null,
      "left": null,
      "margin": null,
      "max_height": null,
      "max_width": null,
      "min_height": null,
      "min_width": null,
      "object_fit": null,
      "object_position": null,
      "order": null,
      "overflow": null,
      "overflow_x": null,
      "overflow_y": null,
      "padding": null,
      "right": null,
      "top": null,
      "visibility": null,
      "width": null
     }
    },
    "61c708826ef24e61860722fab87fe488": {
     "model_module": "@jupyter-widgets/base",
     "model_module_version": "1.2.0",
     "model_name": "LayoutModel",
     "state": {
      "_model_module": "@jupyter-widgets/base",
      "_model_module_version": "1.2.0",
      "_model_name": "LayoutModel",
      "_view_count": null,
      "_view_module": "@jupyter-widgets/base",
      "_view_module_version": "1.2.0",
      "_view_name": "LayoutView",
      "align_content": null,
      "align_items": null,
      "align_self": null,
      "border": null,
      "bottom": null,
      "display": null,
      "flex": null,
      "flex_flow": null,
      "grid_area": null,
      "grid_auto_columns": null,
      "grid_auto_flow": null,
      "grid_auto_rows": null,
      "grid_column": null,
      "grid_gap": null,
      "grid_row": null,
      "grid_template_areas": null,
      "grid_template_columns": null,
      "grid_template_rows": null,
      "height": null,
      "justify_content": null,
      "justify_items": null,
      "left": null,
      "margin": null,
      "max_height": null,
      "max_width": null,
      "min_height": null,
      "min_width": null,
      "object_fit": null,
      "object_position": null,
      "order": null,
      "overflow": null,
      "overflow_x": null,
      "overflow_y": null,
      "padding": null,
      "right": null,
      "top": null,
      "visibility": null,
      "width": null
     }
    },
    "625aeb44dd024637b1489fd77151892d": {
     "model_module": "@jupyter-widgets/controls",
     "model_module_version": "1.5.0",
     "model_name": "HTMLModel",
     "state": {
      "_dom_classes": [],
      "_model_module": "@jupyter-widgets/controls",
      "_model_module_version": "1.5.0",
      "_model_name": "HTMLModel",
      "_view_count": null,
      "_view_module": "@jupyter-widgets/controls",
      "_view_module_version": "1.5.0",
      "_view_name": "HTMLView",
      "description": "",
      "description_tooltip": null,
      "layout": "IPY_MODEL_6131280eba0c4b16998e63479e3a5879",
      "placeholder": "​",
      "style": "IPY_MODEL_beec916deefe4f5bb54b112edc50ec8b",
      "value": " 647/647 [00:00&lt;00:00, 19.5kB/s]"
     }
    },
    "62d677ad067f4338a87f911a8e9df327": {
     "model_module": "@jupyter-widgets/base",
     "model_module_version": "1.2.0",
     "model_name": "LayoutModel",
     "state": {
      "_model_module": "@jupyter-widgets/base",
      "_model_module_version": "1.2.0",
      "_model_name": "LayoutModel",
      "_view_count": null,
      "_view_module": "@jupyter-widgets/base",
      "_view_module_version": "1.2.0",
      "_view_name": "LayoutView",
      "align_content": null,
      "align_items": null,
      "align_self": null,
      "border": null,
      "bottom": null,
      "display": null,
      "flex": null,
      "flex_flow": null,
      "grid_area": null,
      "grid_auto_columns": null,
      "grid_auto_flow": null,
      "grid_auto_rows": null,
      "grid_column": null,
      "grid_gap": null,
      "grid_row": null,
      "grid_template_areas": null,
      "grid_template_columns": null,
      "grid_template_rows": null,
      "height": null,
      "justify_content": null,
      "justify_items": null,
      "left": null,
      "margin": null,
      "max_height": null,
      "max_width": null,
      "min_height": null,
      "min_width": null,
      "object_fit": null,
      "object_position": null,
      "order": null,
      "overflow": null,
      "overflow_x": null,
      "overflow_y": null,
      "padding": null,
      "right": null,
      "top": null,
      "visibility": null,
      "width": null
     }
    },
    "65eaa14d1be14b38b51d39d4adadabb6": {
     "model_module": "@jupyter-widgets/base",
     "model_module_version": "1.2.0",
     "model_name": "LayoutModel",
     "state": {
      "_model_module": "@jupyter-widgets/base",
      "_model_module_version": "1.2.0",
      "_model_name": "LayoutModel",
      "_view_count": null,
      "_view_module": "@jupyter-widgets/base",
      "_view_module_version": "1.2.0",
      "_view_name": "LayoutView",
      "align_content": null,
      "align_items": null,
      "align_self": null,
      "border": null,
      "bottom": null,
      "display": null,
      "flex": null,
      "flex_flow": null,
      "grid_area": null,
      "grid_auto_columns": null,
      "grid_auto_flow": null,
      "grid_auto_rows": null,
      "grid_column": null,
      "grid_gap": null,
      "grid_row": null,
      "grid_template_areas": null,
      "grid_template_columns": null,
      "grid_template_rows": null,
      "height": null,
      "justify_content": null,
      "justify_items": null,
      "left": null,
      "margin": null,
      "max_height": null,
      "max_width": null,
      "min_height": null,
      "min_width": null,
      "object_fit": null,
      "object_position": null,
      "order": null,
      "overflow": null,
      "overflow_x": null,
      "overflow_y": null,
      "padding": null,
      "right": null,
      "top": null,
      "visibility": null,
      "width": null
     }
    },
    "67e19e54bb30425cbee3a78715aa03a7": {
     "model_module": "@jupyter-widgets/base",
     "model_module_version": "1.2.0",
     "model_name": "LayoutModel",
     "state": {
      "_model_module": "@jupyter-widgets/base",
      "_model_module_version": "1.2.0",
      "_model_name": "LayoutModel",
      "_view_count": null,
      "_view_module": "@jupyter-widgets/base",
      "_view_module_version": "1.2.0",
      "_view_name": "LayoutView",
      "align_content": null,
      "align_items": null,
      "align_self": null,
      "border": null,
      "bottom": null,
      "display": null,
      "flex": null,
      "flex_flow": null,
      "grid_area": null,
      "grid_auto_columns": null,
      "grid_auto_flow": null,
      "grid_auto_rows": null,
      "grid_column": null,
      "grid_gap": null,
      "grid_row": null,
      "grid_template_areas": null,
      "grid_template_columns": null,
      "grid_template_rows": null,
      "height": null,
      "justify_content": null,
      "justify_items": null,
      "left": null,
      "margin": null,
      "max_height": null,
      "max_width": null,
      "min_height": null,
      "min_width": null,
      "object_fit": null,
      "object_position": null,
      "order": null,
      "overflow": null,
      "overflow_x": null,
      "overflow_y": null,
      "padding": null,
      "right": null,
      "top": null,
      "visibility": null,
      "width": null
     }
    },
    "6c2474ff1cfe434ab140cfb68b3148d9": {
     "model_module": "@jupyter-widgets/base",
     "model_module_version": "1.2.0",
     "model_name": "LayoutModel",
     "state": {
      "_model_module": "@jupyter-widgets/base",
      "_model_module_version": "1.2.0",
      "_model_name": "LayoutModel",
      "_view_count": null,
      "_view_module": "@jupyter-widgets/base",
      "_view_module_version": "1.2.0",
      "_view_name": "LayoutView",
      "align_content": null,
      "align_items": null,
      "align_self": null,
      "border": null,
      "bottom": null,
      "display": null,
      "flex": null,
      "flex_flow": null,
      "grid_area": null,
      "grid_auto_columns": null,
      "grid_auto_flow": null,
      "grid_auto_rows": null,
      "grid_column": null,
      "grid_gap": null,
      "grid_row": null,
      "grid_template_areas": null,
      "grid_template_columns": null,
      "grid_template_rows": null,
      "height": null,
      "justify_content": null,
      "justify_items": null,
      "left": null,
      "margin": null,
      "max_height": null,
      "max_width": null,
      "min_height": null,
      "min_width": null,
      "object_fit": null,
      "object_position": null,
      "order": null,
      "overflow": null,
      "overflow_x": null,
      "overflow_y": null,
      "padding": null,
      "right": null,
      "top": null,
      "visibility": null,
      "width": null
     }
    },
    "6cdde92776e849009fc432ef7c0646a6": {
     "model_module": "@jupyter-widgets/base",
     "model_module_version": "1.2.0",
     "model_name": "LayoutModel",
     "state": {
      "_model_module": "@jupyter-widgets/base",
      "_model_module_version": "1.2.0",
      "_model_name": "LayoutModel",
      "_view_count": null,
      "_view_module": "@jupyter-widgets/base",
      "_view_module_version": "1.2.0",
      "_view_name": "LayoutView",
      "align_content": null,
      "align_items": null,
      "align_self": null,
      "border": null,
      "bottom": null,
      "display": null,
      "flex": null,
      "flex_flow": null,
      "grid_area": null,
      "grid_auto_columns": null,
      "grid_auto_flow": null,
      "grid_auto_rows": null,
      "grid_column": null,
      "grid_gap": null,
      "grid_row": null,
      "grid_template_areas": null,
      "grid_template_columns": null,
      "grid_template_rows": null,
      "height": null,
      "justify_content": null,
      "justify_items": null,
      "left": null,
      "margin": null,
      "max_height": null,
      "max_width": null,
      "min_height": null,
      "min_width": null,
      "object_fit": null,
      "object_position": null,
      "order": null,
      "overflow": null,
      "overflow_x": null,
      "overflow_y": null,
      "padding": null,
      "right": null,
      "top": null,
      "visibility": null,
      "width": null
     }
    },
    "6e815ab346684567bd81bac2e09b22d9": {
     "model_module": "@jupyter-widgets/controls",
     "model_module_version": "1.5.0",
     "model_name": "HBoxModel",
     "state": {
      "_dom_classes": [],
      "_model_module": "@jupyter-widgets/controls",
      "_model_module_version": "1.5.0",
      "_model_name": "HBoxModel",
      "_view_count": null,
      "_view_module": "@jupyter-widgets/controls",
      "_view_module_version": "1.5.0",
      "_view_name": "HBoxView",
      "box_style": "",
      "children": [
       "IPY_MODEL_abc5831fba27435289ee4beb23102d83",
       "IPY_MODEL_ee59016be359485ebe8f8a50319ccabb",
       "IPY_MODEL_9c2149c3f7054103ac0d5f4cd418736f"
      ],
      "layout": "IPY_MODEL_5440166aac734b1e90ba5d81b2d02dc1"
     }
    },
    "710fdbc401274b6fbad094f41cc710a6": {
     "model_module": "@jupyter-widgets/controls",
     "model_module_version": "1.5.0",
     "model_name": "HBoxModel",
     "state": {
      "_dom_classes": [],
      "_model_module": "@jupyter-widgets/controls",
      "_model_module_version": "1.5.0",
      "_model_name": "HBoxModel",
      "_view_count": null,
      "_view_module": "@jupyter-widgets/controls",
      "_view_module_version": "1.5.0",
      "_view_name": "HBoxView",
      "box_style": "",
      "children": [
       "IPY_MODEL_164e73cf6bda4b4aa8f11ba75eea3a50",
       "IPY_MODEL_c5973c7cf44447eca7b7fb31d502f741",
       "IPY_MODEL_12ba91253abc4faaa18e61030b4742fe"
      ],
      "layout": "IPY_MODEL_60745b695edd441c88b298d1ed19be16"
     }
    },
    "7520302058914104a5eeef9a0a43fc87": {
     "model_module": "@jupyter-widgets/controls",
     "model_module_version": "1.5.0",
     "model_name": "FloatProgressModel",
     "state": {
      "_dom_classes": [],
      "_model_module": "@jupyter-widgets/controls",
      "_model_module_version": "1.5.0",
      "_model_name": "FloatProgressModel",
      "_view_count": null,
      "_view_module": "@jupyter-widgets/controls",
      "_view_module_version": "1.5.0",
      "_view_name": "ProgressView",
      "bar_style": "success",
      "description": "",
      "description_tooltip": null,
      "layout": "IPY_MODEL_8ece2c5220f744d29ce3ed695e217a4f",
      "max": 112,
      "min": 0,
      "orientation": "horizontal",
      "style": "IPY_MODEL_988599e8c01847db98db349b5b0b407f",
      "value": 112
     }
    },
    "7b2ba863963747719c03bbcfce2f5303": {
     "model_module": "@jupyter-widgets/controls",
     "model_module_version": "1.5.0",
     "model_name": "DescriptionStyleModel",
     "state": {
      "_model_module": "@jupyter-widgets/controls",
      "_model_module_version": "1.5.0",
      "_model_name": "DescriptionStyleModel",
      "_view_count": null,
      "_view_module": "@jupyter-widgets/base",
      "_view_module_version": "1.2.0",
      "_view_name": "StyleView",
      "description_width": ""
     }
    },
    "7d312150014349708522d6bc088d4b51": {
     "model_module": "@jupyter-widgets/controls",
     "model_module_version": "1.5.0",
     "model_name": "DescriptionStyleModel",
     "state": {
      "_model_module": "@jupyter-widgets/controls",
      "_model_module_version": "1.5.0",
      "_model_name": "DescriptionStyleModel",
      "_view_count": null,
      "_view_module": "@jupyter-widgets/base",
      "_view_module_version": "1.2.0",
      "_view_name": "StyleView",
      "description_width": ""
     }
    },
    "8665909001794ef98c681fad04ef9cb7": {
     "model_module": "@jupyter-widgets/base",
     "model_module_version": "1.2.0",
     "model_name": "LayoutModel",
     "state": {
      "_model_module": "@jupyter-widgets/base",
      "_model_module_version": "1.2.0",
      "_model_name": "LayoutModel",
      "_view_count": null,
      "_view_module": "@jupyter-widgets/base",
      "_view_module_version": "1.2.0",
      "_view_name": "LayoutView",
      "align_content": null,
      "align_items": null,
      "align_self": null,
      "border": null,
      "bottom": null,
      "display": null,
      "flex": null,
      "flex_flow": null,
      "grid_area": null,
      "grid_auto_columns": null,
      "grid_auto_flow": null,
      "grid_auto_rows": null,
      "grid_column": null,
      "grid_gap": null,
      "grid_row": null,
      "grid_template_areas": null,
      "grid_template_columns": null,
      "grid_template_rows": null,
      "height": null,
      "justify_content": null,
      "justify_items": null,
      "left": null,
      "margin": null,
      "max_height": null,
      "max_width": null,
      "min_height": null,
      "min_width": null,
      "object_fit": null,
      "object_position": null,
      "order": null,
      "overflow": null,
      "overflow_x": null,
      "overflow_y": null,
      "padding": null,
      "right": null,
      "top": null,
      "visibility": null,
      "width": null
     }
    },
    "8ece2c5220f744d29ce3ed695e217a4f": {
     "model_module": "@jupyter-widgets/base",
     "model_module_version": "1.2.0",
     "model_name": "LayoutModel",
     "state": {
      "_model_module": "@jupyter-widgets/base",
      "_model_module_version": "1.2.0",
      "_model_name": "LayoutModel",
      "_view_count": null,
      "_view_module": "@jupyter-widgets/base",
      "_view_module_version": "1.2.0",
      "_view_name": "LayoutView",
      "align_content": null,
      "align_items": null,
      "align_self": null,
      "border": null,
      "bottom": null,
      "display": null,
      "flex": null,
      "flex_flow": null,
      "grid_area": null,
      "grid_auto_columns": null,
      "grid_auto_flow": null,
      "grid_auto_rows": null,
      "grid_column": null,
      "grid_gap": null,
      "grid_row": null,
      "grid_template_areas": null,
      "grid_template_columns": null,
      "grid_template_rows": null,
      "height": null,
      "justify_content": null,
      "justify_items": null,
      "left": null,
      "margin": null,
      "max_height": null,
      "max_width": null,
      "min_height": null,
      "min_width": null,
      "object_fit": null,
      "object_position": null,
      "order": null,
      "overflow": null,
      "overflow_x": null,
      "overflow_y": null,
      "padding": null,
      "right": null,
      "top": null,
      "visibility": null,
      "width": null
     }
    },
    "939ab8309a0245af9af475fa5ab59a17": {
     "model_module": "@jupyter-widgets/base",
     "model_module_version": "1.2.0",
     "model_name": "LayoutModel",
     "state": {
      "_model_module": "@jupyter-widgets/base",
      "_model_module_version": "1.2.0",
      "_model_name": "LayoutModel",
      "_view_count": null,
      "_view_module": "@jupyter-widgets/base",
      "_view_module_version": "1.2.0",
      "_view_name": "LayoutView",
      "align_content": null,
      "align_items": null,
      "align_self": null,
      "border": null,
      "bottom": null,
      "display": null,
      "flex": null,
      "flex_flow": null,
      "grid_area": null,
      "grid_auto_columns": null,
      "grid_auto_flow": null,
      "grid_auto_rows": null,
      "grid_column": null,
      "grid_gap": null,
      "grid_row": null,
      "grid_template_areas": null,
      "grid_template_columns": null,
      "grid_template_rows": null,
      "height": null,
      "justify_content": null,
      "justify_items": null,
      "left": null,
      "margin": null,
      "max_height": null,
      "max_width": null,
      "min_height": null,
      "min_width": null,
      "object_fit": null,
      "object_position": null,
      "order": null,
      "overflow": null,
      "overflow_x": null,
      "overflow_y": null,
      "padding": null,
      "right": null,
      "top": null,
      "visibility": null,
      "width": null
     }
    },
    "94cf3e9047c1436eb501d856de72831c": {
     "model_module": "@jupyter-widgets/controls",
     "model_module_version": "1.5.0",
     "model_name": "DescriptionStyleModel",
     "state": {
      "_model_module": "@jupyter-widgets/controls",
      "_model_module_version": "1.5.0",
      "_model_name": "DescriptionStyleModel",
      "_view_count": null,
      "_view_module": "@jupyter-widgets/base",
      "_view_module_version": "1.2.0",
      "_view_name": "StyleView",
      "description_width": ""
     }
    },
    "988599e8c01847db98db349b5b0b407f": {
     "model_module": "@jupyter-widgets/controls",
     "model_module_version": "1.5.0",
     "model_name": "ProgressStyleModel",
     "state": {
      "_model_module": "@jupyter-widgets/controls",
      "_model_module_version": "1.5.0",
      "_model_name": "ProgressStyleModel",
      "_view_count": null,
      "_view_module": "@jupyter-widgets/base",
      "_view_module_version": "1.2.0",
      "_view_name": "StyleView",
      "bar_color": null,
      "description_width": ""
     }
    },
    "9c2149c3f7054103ac0d5f4cd418736f": {
     "model_module": "@jupyter-widgets/controls",
     "model_module_version": "1.5.0",
     "model_name": "HTMLModel",
     "state": {
      "_dom_classes": [],
      "_model_module": "@jupyter-widgets/controls",
      "_model_module_version": "1.5.0",
      "_model_name": "HTMLModel",
      "_view_count": null,
      "_view_module": "@jupyter-widgets/controls",
      "_view_module_version": "1.5.0",
      "_view_name": "HTMLView",
      "description": "",
      "description_tooltip": null,
      "layout": "IPY_MODEL_a11ecf3d72de42d69a471c8a9b7c0674",
      "placeholder": "​",
      "style": "IPY_MODEL_17f08c7a965c4fd2bc65ea6a1750ecc9",
      "value": " 205k/205k [00:00&lt;00:00, 225kB/s]"
     }
    },
    "9ed26778eb7b42519a781ad47d04805e": {
     "model_module": "@jupyter-widgets/controls",
     "model_module_version": "1.5.0",
     "model_name": "DescriptionStyleModel",
     "state": {
      "_model_module": "@jupyter-widgets/controls",
      "_model_module_version": "1.5.0",
      "_model_name": "DescriptionStyleModel",
      "_view_count": null,
      "_view_module": "@jupyter-widgets/base",
      "_view_module_version": "1.2.0",
      "_view_name": "StyleView",
      "description_width": ""
     }
    },
    "a11ecf3d72de42d69a471c8a9b7c0674": {
     "model_module": "@jupyter-widgets/base",
     "model_module_version": "1.2.0",
     "model_name": "LayoutModel",
     "state": {
      "_model_module": "@jupyter-widgets/base",
      "_model_module_version": "1.2.0",
      "_model_name": "LayoutModel",
      "_view_count": null,
      "_view_module": "@jupyter-widgets/base",
      "_view_module_version": "1.2.0",
      "_view_name": "LayoutView",
      "align_content": null,
      "align_items": null,
      "align_self": null,
      "border": null,
      "bottom": null,
      "display": null,
      "flex": null,
      "flex_flow": null,
      "grid_area": null,
      "grid_auto_columns": null,
      "grid_auto_flow": null,
      "grid_auto_rows": null,
      "grid_column": null,
      "grid_gap": null,
      "grid_row": null,
      "grid_template_areas": null,
      "grid_template_columns": null,
      "grid_template_rows": null,
      "height": null,
      "justify_content": null,
      "justify_items": null,
      "left": null,
      "margin": null,
      "max_height": null,
      "max_width": null,
      "min_height": null,
      "min_width": null,
      "object_fit": null,
      "object_position": null,
      "order": null,
      "overflow": null,
      "overflow_x": null,
      "overflow_y": null,
      "padding": null,
      "right": null,
      "top": null,
      "visibility": null,
      "width": null
     }
    },
    "a1fdc85bbedd45b38fbc7c22be2ded42": {
     "model_module": "@jupyter-widgets/controls",
     "model_module_version": "1.5.0",
     "model_name": "HTMLModel",
     "state": {
      "_dom_classes": [],
      "_model_module": "@jupyter-widgets/controls",
      "_model_module_version": "1.5.0",
      "_model_name": "HTMLModel",
      "_view_count": null,
      "_view_module": "@jupyter-widgets/controls",
      "_view_module_version": "1.5.0",
      "_view_name": "HTMLView",
      "description": "",
      "description_tooltip": null,
      "layout": "IPY_MODEL_62d677ad067f4338a87f911a8e9df327",
      "placeholder": "​",
      "style": "IPY_MODEL_7b2ba863963747719c03bbcfce2f5303",
      "value": " 2.00/2.00 [00:00&lt;00:00, 48.5B/s]"
     }
    },
    "a6910c39d2d24c9f9515571db544f3c4": {
     "model_module": "@jupyter-widgets/controls",
     "model_module_version": "1.5.0",
     "model_name": "DescriptionStyleModel",
     "state": {
      "_model_module": "@jupyter-widgets/controls",
      "_model_module_version": "1.5.0",
      "_model_name": "DescriptionStyleModel",
      "_view_count": null,
      "_view_module": "@jupyter-widgets/base",
      "_view_module_version": "1.2.0",
      "_view_name": "StyleView",
      "description_width": ""
     }
    },
    "a823ad82f73541bcb2e821090a969931": {
     "model_module": "@jupyter-widgets/controls",
     "model_module_version": "1.5.0",
     "model_name": "FloatProgressModel",
     "state": {
      "_dom_classes": [],
      "_model_module": "@jupyter-widgets/controls",
      "_model_module_version": "1.5.0",
      "_model_name": "FloatProgressModel",
      "_view_count": null,
      "_view_module": "@jupyter-widgets/controls",
      "_view_module_version": "1.5.0",
      "_view_name": "ProgressView",
      "bar_style": "success",
      "description": "",
      "description_tooltip": null,
      "layout": "IPY_MODEL_6c2474ff1cfe434ab140cfb68b3148d9",
      "max": 43,
      "min": 0,
      "orientation": "horizontal",
      "style": "IPY_MODEL_b700805eca9f4df498e4bf4aa395484d",
      "value": 43
     }
    },
    "abc5831fba27435289ee4beb23102d83": {
     "model_module": "@jupyter-widgets/controls",
     "model_module_version": "1.5.0",
     "model_name": "HTMLModel",
     "state": {
      "_dom_classes": [],
      "_model_module": "@jupyter-widgets/controls",
      "_model_module_version": "1.5.0",
      "_model_name": "HTMLModel",
      "_view_count": null,
      "_view_module": "@jupyter-widgets/controls",
      "_view_module_version": "1.5.0",
      "_view_name": "HTMLView",
      "description": "",
      "description_tooltip": null,
      "layout": "IPY_MODEL_56083c6aacde471288ba1036012ebe6c",
      "placeholder": "​",
      "style": "IPY_MODEL_7d312150014349708522d6bc088d4b51",
      "value": "Downloading vocab.txt: 100%"
     }
    },
    "ac22ef974f424afe8a61cac41913d3a0": {
     "model_module": "@jupyter-widgets/controls",
     "model_module_version": "1.5.0",
     "model_name": "FloatProgressModel",
     "state": {
      "_dom_classes": [],
      "_model_module": "@jupyter-widgets/controls",
      "_model_module_version": "1.5.0",
      "_model_name": "FloatProgressModel",
      "_view_count": null,
      "_view_module": "@jupyter-widgets/controls",
      "_view_module_version": "1.5.0",
      "_view_name": "ProgressView",
      "bar_style": "success",
      "description": "",
      "description_tooltip": null,
      "layout": "IPY_MODEL_65eaa14d1be14b38b51d39d4adadabb6",
      "max": 647,
      "min": 0,
      "orientation": "horizontal",
      "style": "IPY_MODEL_b5f980c58cd84fb382e7a3eed0b4a69d",
      "value": 647
     }
    },
    "b5f980c58cd84fb382e7a3eed0b4a69d": {
     "model_module": "@jupyter-widgets/controls",
     "model_module_version": "1.5.0",
     "model_name": "ProgressStyleModel",
     "state": {
      "_model_module": "@jupyter-widgets/controls",
      "_model_module_version": "1.5.0",
      "_model_name": "ProgressStyleModel",
      "_view_count": null,
      "_view_module": "@jupyter-widgets/base",
      "_view_module_version": "1.2.0",
      "_view_name": "StyleView",
      "bar_color": null,
      "description_width": ""
     }
    },
    "b700805eca9f4df498e4bf4aa395484d": {
     "model_module": "@jupyter-widgets/controls",
     "model_module_version": "1.5.0",
     "model_name": "ProgressStyleModel",
     "state": {
      "_model_module": "@jupyter-widgets/controls",
      "_model_module_version": "1.5.0",
      "_model_name": "ProgressStyleModel",
      "_view_count": null,
      "_view_module": "@jupyter-widgets/base",
      "_view_module_version": "1.2.0",
      "_view_name": "StyleView",
      "bar_color": null,
      "description_width": ""
     }
    },
    "ba5ff7b8e67848c4bf60217d38f475be": {
     "model_module": "@jupyter-widgets/controls",
     "model_module_version": "1.5.0",
     "model_name": "HTMLModel",
     "state": {
      "_dom_classes": [],
      "_model_module": "@jupyter-widgets/controls",
      "_model_module_version": "1.5.0",
      "_model_name": "HTMLModel",
      "_view_count": null,
      "_view_module": "@jupyter-widgets/controls",
      "_view_module_version": "1.5.0",
      "_view_name": "HTMLView",
      "description": "",
      "description_tooltip": null,
      "layout": "IPY_MODEL_8665909001794ef98c681fad04ef9cb7",
      "placeholder": "​",
      "style": "IPY_MODEL_5196990fa2c24141b216dde2da734e3d",
      "value": " 43.0/43.0 [00:00&lt;00:00, 588B/s]"
     }
    },
    "ba8370d035844d1ba4b368dbd2de71dd": {
     "model_module": "@jupyter-widgets/controls",
     "model_module_version": "1.5.0",
     "model_name": "HBoxModel",
     "state": {
      "_dom_classes": [],
      "_model_module": "@jupyter-widgets/controls",
      "_model_module_version": "1.5.0",
      "_model_name": "HBoxModel",
      "_view_count": null,
      "_view_module": "@jupyter-widgets/controls",
      "_view_module_version": "1.5.0",
      "_view_name": "HBoxView",
      "box_style": "",
      "children": [
       "IPY_MODEL_cfac3c61198f4dc889f44d5e96c556fa",
       "IPY_MODEL_a823ad82f73541bcb2e821090a969931",
       "IPY_MODEL_ba5ff7b8e67848c4bf60217d38f475be"
      ],
      "layout": "IPY_MODEL_6cdde92776e849009fc432ef7c0646a6"
     }
    },
    "ba9f70d78fd94fd991f5ca7d110c951c": {
     "model_module": "@jupyter-widgets/controls",
     "model_module_version": "1.5.0",
     "model_name": "DescriptionStyleModel",
     "state": {
      "_model_module": "@jupyter-widgets/controls",
      "_model_module_version": "1.5.0",
      "_model_name": "DescriptionStyleModel",
      "_view_count": null,
      "_view_module": "@jupyter-widgets/base",
      "_view_module_version": "1.2.0",
      "_view_name": "StyleView",
      "description_width": ""
     }
    },
    "beec916deefe4f5bb54b112edc50ec8b": {
     "model_module": "@jupyter-widgets/controls",
     "model_module_version": "1.5.0",
     "model_name": "DescriptionStyleModel",
     "state": {
      "_model_module": "@jupyter-widgets/controls",
      "_model_module_version": "1.5.0",
      "_model_name": "DescriptionStyleModel",
      "_view_count": null,
      "_view_module": "@jupyter-widgets/base",
      "_view_module_version": "1.2.0",
      "_view_name": "StyleView",
      "description_width": ""
     }
    },
    "c45fc09e787b4755958a392e8d4296b4": {
     "model_module": "@jupyter-widgets/base",
     "model_module_version": "1.2.0",
     "model_name": "LayoutModel",
     "state": {
      "_model_module": "@jupyter-widgets/base",
      "_model_module_version": "1.2.0",
      "_model_name": "LayoutModel",
      "_view_count": null,
      "_view_module": "@jupyter-widgets/base",
      "_view_module_version": "1.2.0",
      "_view_name": "LayoutView",
      "align_content": null,
      "align_items": null,
      "align_self": null,
      "border": null,
      "bottom": null,
      "display": null,
      "flex": null,
      "flex_flow": null,
      "grid_area": null,
      "grid_auto_columns": null,
      "grid_auto_flow": null,
      "grid_auto_rows": null,
      "grid_column": null,
      "grid_gap": null,
      "grid_row": null,
      "grid_template_areas": null,
      "grid_template_columns": null,
      "grid_template_rows": null,
      "height": null,
      "justify_content": null,
      "justify_items": null,
      "left": null,
      "margin": null,
      "max_height": null,
      "max_width": null,
      "min_height": null,
      "min_width": null,
      "object_fit": null,
      "object_position": null,
      "order": null,
      "overflow": null,
      "overflow_x": null,
      "overflow_y": null,
      "padding": null,
      "right": null,
      "top": null,
      "visibility": null,
      "width": null
     }
    },
    "c5973c7cf44447eca7b7fb31d502f741": {
     "model_module": "@jupyter-widgets/controls",
     "model_module_version": "1.5.0",
     "model_name": "FloatProgressModel",
     "state": {
      "_dom_classes": [],
      "_model_module": "@jupyter-widgets/controls",
      "_model_module_version": "1.5.0",
      "_model_name": "FloatProgressModel",
      "_view_count": null,
      "_view_module": "@jupyter-widgets/controls",
      "_view_module_version": "1.5.0",
      "_view_name": "ProgressView",
      "bar_style": "success",
      "description": "",
      "description_tooltip": null,
      "layout": "IPY_MODEL_0d87ac4051b44441bd89bab2ebeb662a",
      "max": 438235074,
      "min": 0,
      "orientation": "horizontal",
      "style": "IPY_MODEL_3ff74c51bace4a6e9bf806718c5accca",
      "value": 438235074
     }
    },
    "c8abf55d114c4acebbf5b13ec52c9d01": {
     "model_module": "@jupyter-widgets/controls",
     "model_module_version": "1.5.0",
     "model_name": "HTMLModel",
     "state": {
      "_dom_classes": [],
      "_model_module": "@jupyter-widgets/controls",
      "_model_module_version": "1.5.0",
      "_model_name": "HTMLModel",
      "_view_count": null,
      "_view_module": "@jupyter-widgets/controls",
      "_view_module_version": "1.5.0",
      "_view_name": "HTMLView",
      "description": "",
      "description_tooltip": null,
      "layout": "IPY_MODEL_3c77dadd5cd54d1b993d2e5b6267a806",
      "placeholder": "​",
      "style": "IPY_MODEL_ba9f70d78fd94fd991f5ca7d110c951c",
      "value": "Downloading config.json: 100%"
     }
    },
    "cfac3c61198f4dc889f44d5e96c556fa": {
     "model_module": "@jupyter-widgets/controls",
     "model_module_version": "1.5.0",
     "model_name": "HTMLModel",
     "state": {
      "_dom_classes": [],
      "_model_module": "@jupyter-widgets/controls",
      "_model_module_version": "1.5.0",
      "_model_name": "HTMLModel",
      "_view_count": null,
      "_view_module": "@jupyter-widgets/controls",
      "_view_module_version": "1.5.0",
      "_view_name": "HTMLView",
      "description": "",
      "description_tooltip": null,
      "layout": "IPY_MODEL_61c708826ef24e61860722fab87fe488",
      "placeholder": "​",
      "style": "IPY_MODEL_9ed26778eb7b42519a781ad47d04805e",
      "value": "Downloading tokenizer_config.json: 100%"
     }
    },
    "d97ed9fdce1a45f2900f685c93e9fa3f": {
     "model_module": "@jupyter-widgets/base",
     "model_module_version": "1.2.0",
     "model_name": "LayoutModel",
     "state": {
      "_model_module": "@jupyter-widgets/base",
      "_model_module_version": "1.2.0",
      "_model_name": "LayoutModel",
      "_view_count": null,
      "_view_module": "@jupyter-widgets/base",
      "_view_module_version": "1.2.0",
      "_view_name": "LayoutView",
      "align_content": null,
      "align_items": null,
      "align_self": null,
      "border": null,
      "bottom": null,
      "display": null,
      "flex": null,
      "flex_flow": null,
      "grid_area": null,
      "grid_auto_columns": null,
      "grid_auto_flow": null,
      "grid_auto_rows": null,
      "grid_column": null,
      "grid_gap": null,
      "grid_row": null,
      "grid_template_areas": null,
      "grid_template_columns": null,
      "grid_template_rows": null,
      "height": null,
      "justify_content": null,
      "justify_items": null,
      "left": null,
      "margin": null,
      "max_height": null,
      "max_width": null,
      "min_height": null,
      "min_width": null,
      "object_fit": null,
      "object_position": null,
      "order": null,
      "overflow": null,
      "overflow_x": null,
      "overflow_y": null,
      "padding": null,
      "right": null,
      "top": null,
      "visibility": null,
      "width": null
     }
    },
    "e356fa2f75fc4d90864c39b4b09f8bc7": {
     "model_module": "@jupyter-widgets/controls",
     "model_module_version": "1.5.0",
     "model_name": "HTMLModel",
     "state": {
      "_dom_classes": [],
      "_model_module": "@jupyter-widgets/controls",
      "_model_module_version": "1.5.0",
      "_model_name": "HTMLModel",
      "_view_count": null,
      "_view_module": "@jupyter-widgets/controls",
      "_view_module_version": "1.5.0",
      "_view_name": "HTMLView",
      "description": "",
      "description_tooltip": null,
      "layout": "IPY_MODEL_5b3b3b424c8e4bbf887db5c8838d52d2",
      "placeholder": "​",
      "style": "IPY_MODEL_f24fba36f6a54df5a4631ac91f633c9a",
      "value": " 112/112 [00:00&lt;00:00, 3.15kB/s]"
     }
    },
    "e5eb32a3dde146b7bb5e44fc745da19c": {
     "model_module": "@jupyter-widgets/controls",
     "model_module_version": "1.5.0",
     "model_name": "HBoxModel",
     "state": {
      "_dom_classes": [],
      "_model_module": "@jupyter-widgets/controls",
      "_model_module_version": "1.5.0",
      "_model_name": "HBoxModel",
      "_view_count": null,
      "_view_module": "@jupyter-widgets/controls",
      "_view_module_version": "1.5.0",
      "_view_name": "HBoxView",
      "box_style": "",
      "children": [
       "IPY_MODEL_3eb01677410c4aa89c1ddec5afaa31ba",
       "IPY_MODEL_3d1554e0518c4eda842b4712df5cd6f9",
       "IPY_MODEL_a1fdc85bbedd45b38fbc7c22be2ded42"
      ],
      "layout": "IPY_MODEL_67e19e54bb30425cbee3a78715aa03a7"
     }
    },
    "eac58d80884b4a04a9847ac5b53a7cfa": {
     "model_module": "@jupyter-widgets/base",
     "model_module_version": "1.2.0",
     "model_name": "LayoutModel",
     "state": {
      "_model_module": "@jupyter-widgets/base",
      "_model_module_version": "1.2.0",
      "_model_name": "LayoutModel",
      "_view_count": null,
      "_view_module": "@jupyter-widgets/base",
      "_view_module_version": "1.2.0",
      "_view_name": "LayoutView",
      "align_content": null,
      "align_items": null,
      "align_self": null,
      "border": null,
      "bottom": null,
      "display": null,
      "flex": null,
      "flex_flow": null,
      "grid_area": null,
      "grid_auto_columns": null,
      "grid_auto_flow": null,
      "grid_auto_rows": null,
      "grid_column": null,
      "grid_gap": null,
      "grid_row": null,
      "grid_template_areas": null,
      "grid_template_columns": null,
      "grid_template_rows": null,
      "height": null,
      "justify_content": null,
      "justify_items": null,
      "left": null,
      "margin": null,
      "max_height": null,
      "max_width": null,
      "min_height": null,
      "min_width": null,
      "object_fit": null,
      "object_position": null,
      "order": null,
      "overflow": null,
      "overflow_x": null,
      "overflow_y": null,
      "padding": null,
      "right": null,
      "top": null,
      "visibility": null,
      "width": null
     }
    },
    "ee59016be359485ebe8f8a50319ccabb": {
     "model_module": "@jupyter-widgets/controls",
     "model_module_version": "1.5.0",
     "model_name": "FloatProgressModel",
     "state": {
      "_dom_classes": [],
      "_model_module": "@jupyter-widgets/controls",
      "_model_module_version": "1.5.0",
      "_model_name": "FloatProgressModel",
      "_view_count": null,
      "_view_module": "@jupyter-widgets/controls",
      "_view_module_version": "1.5.0",
      "_view_name": "ProgressView",
      "bar_style": "success",
      "description": "",
      "description_tooltip": null,
      "layout": "IPY_MODEL_f26ed14f2814416e882348595e6602cd",
      "max": 209528,
      "min": 0,
      "orientation": "horizontal",
      "style": "IPY_MODEL_29a502fe103947f3818351baad6bb360",
      "value": 209528
     }
    },
    "f24fba36f6a54df5a4631ac91f633c9a": {
     "model_module": "@jupyter-widgets/controls",
     "model_module_version": "1.5.0",
     "model_name": "DescriptionStyleModel",
     "state": {
      "_model_module": "@jupyter-widgets/controls",
      "_model_module_version": "1.5.0",
      "_model_name": "DescriptionStyleModel",
      "_view_count": null,
      "_view_module": "@jupyter-widgets/base",
      "_view_module_version": "1.2.0",
      "_view_name": "StyleView",
      "description_width": ""
     }
    },
    "f26ed14f2814416e882348595e6602cd": {
     "model_module": "@jupyter-widgets/base",
     "model_module_version": "1.2.0",
     "model_name": "LayoutModel",
     "state": {
      "_model_module": "@jupyter-widgets/base",
      "_model_module_version": "1.2.0",
      "_model_name": "LayoutModel",
      "_view_count": null,
      "_view_module": "@jupyter-widgets/base",
      "_view_module_version": "1.2.0",
      "_view_name": "LayoutView",
      "align_content": null,
      "align_items": null,
      "align_self": null,
      "border": null,
      "bottom": null,
      "display": null,
      "flex": null,
      "flex_flow": null,
      "grid_area": null,
      "grid_auto_columns": null,
      "grid_auto_flow": null,
      "grid_auto_rows": null,
      "grid_column": null,
      "grid_gap": null,
      "grid_row": null,
      "grid_template_areas": null,
      "grid_template_columns": null,
      "grid_template_rows": null,
      "height": null,
      "justify_content": null,
      "justify_items": null,
      "left": null,
      "margin": null,
      "max_height": null,
      "max_width": null,
      "min_height": null,
      "min_width": null,
      "object_fit": null,
      "object_position": null,
      "order": null,
      "overflow": null,
      "overflow_x": null,
      "overflow_y": null,
      "padding": null,
      "right": null,
      "top": null,
      "visibility": null,
      "width": null
     }
    },
    "f85fdf4c399643e0ae987f77d9ecb843": {
     "model_module": "@jupyter-widgets/controls",
     "model_module_version": "1.5.0",
     "model_name": "HBoxModel",
     "state": {
      "_dom_classes": [],
      "_model_module": "@jupyter-widgets/controls",
      "_model_module_version": "1.5.0",
      "_model_name": "HBoxModel",
      "_view_count": null,
      "_view_module": "@jupyter-widgets/controls",
      "_view_module_version": "1.5.0",
      "_view_name": "HBoxView",
      "box_style": "",
      "children": [
       "IPY_MODEL_3e9fce474f7d430891a7bbe4c641c785",
       "IPY_MODEL_7520302058914104a5eeef9a0a43fc87",
       "IPY_MODEL_e356fa2f75fc4d90864c39b4b09f8bc7"
      ],
      "layout": "IPY_MODEL_203772b00ad8462e857d1b9c3ac67cab"
     }
    }
   }
  }
 },
 "nbformat": 4,
 "nbformat_minor": 1
}
